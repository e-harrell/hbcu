{
 "cells": [
  {
   "cell_type": "code",
   "execution_count": 32,
   "metadata": {},
   "outputs": [
    {
     "name": "stdout",
     "output_type": "stream",
     "text": [
      "Index(['Name', 'Address', 'Website', 'Type', 'Awards offered',\n",
      "       'Campus setting', 'Campus housing', 'Student population',\n",
      "       'Undergraduate students', 'Graduation Rate', 'Transfer-Out Rate',\n",
      "       'Cohort Year *', 'Net Price **', 'Largest Program', 'IPEDS ID',\n",
      "       'OPE ID'],\n",
      "      dtype='object')\n"
     ]
    }
   ],
   "source": [
    "#show all output in each cell\n",
    "from IPython.core.interactiveshell import InteractiveShell\n",
    "InteractiveShell.ast_node_interactivity = \"all\"\n",
    "#import packages\n",
    "import pandas as pd\n",
    "import numpy as np\n",
    "#read in dataset\n",
    "csvFile = pd.read_csv('hbcu.csv')\n",
    "#print out column names\n",
    "print(csvFile.columns)"
   ]
  },
  {
   "cell_type": "code",
   "execution_count": 33,
   "metadata": {},
   "outputs": [
    {
     "name": "stdout",
     "output_type": "stream",
     "text": [
      "<class 'pandas.core.frame.DataFrame'>\n",
      "RangeIndex: 105 entries, 0 to 104\n",
      "Data columns (total 16 columns):\n",
      " #   Column                  Non-Null Count  Dtype  \n",
      "---  ------                  --------------  -----  \n",
      " 0   Name                    102 non-null    object \n",
      " 1   Address                 105 non-null    object \n",
      " 2   Website                 102 non-null    object \n",
      " 3   Type                    102 non-null    object \n",
      " 4   Awards offered          102 non-null    object \n",
      " 5   Campus setting          101 non-null    object \n",
      " 6   Campus housing          102 non-null    object \n",
      " 7   Student population      100 non-null    float64\n",
      " 8   Undergraduate students  97 non-null     float64\n",
      " 9   Graduation Rate         96 non-null     object \n",
      " 10  Transfer-Out Rate       63 non-null     object \n",
      " 11  Cohort Year *           102 non-null    object \n",
      " 12  Net Price **            96 non-null     object \n",
      " 13  Largest Program         102 non-null    object \n",
      " 14  IPEDS ID                102 non-null    float64\n",
      " 15  OPE ID                  101 non-null    float64\n",
      "dtypes: float64(4), object(12)\n",
      "memory usage: 13.3+ KB\n"
     ]
    }
   ],
   "source": [
    "#get data type for each column\n",
    "csvFile.info()"
   ]
  },
  {
   "cell_type": "code",
   "execution_count": 34,
   "metadata": {},
   "outputs": [
    {
     "data": {
      "text/plain": [
       "array([\"Bachelor's degree|Master's degree|Post-master's certificate|Doctor's degree - research/scholarship\",\n",
       "       \"Bachelor's degree|Postbaccalaureate certificate|Master's degree|Post-master's certificate|Doctor's degree - research/scholarship|Doctor's degree - professional practice\",\n",
       "       \"Less than one year certificate|One but less than two years certificate|Associate's degree|Bachelor's degree|Master's degree|Post-master's certificate\",\n",
       "       \"Associate's degree|Bachelor's degree|Master's degree|Post-master's certificate|Doctor's degree - professional practice\",\n",
       "       \"Associate's degree|Bachelor's degree|Master's degree|Doctor's degree - research/scholarship\",\n",
       "       \"Associate's degree|Bachelor's degree\",\n",
       "       \"Bachelor's degree|Master's degree\", \"Bachelor's degree\",\n",
       "       \"Bachelor's degree|Postbaccalaureate certificate|Master's degree\",\n",
       "       \"Less than one year certificate|One but less than two years certificate|Associate's degree\",\n",
       "       \"Less than one year certificate|Associate's degree|Bachelor's degree|Master's degree\",\n",
       "       \"Bachelor's degree|Postbaccalaureate certificate|Master's degree|Post-master's certificate|Doctor's degree - research/scholarship\",\n",
       "       \"One but less than two years certificate|Bachelor's degree|Master's degree\",\n",
       "       \"Less than one year certificate|Bachelor's degree\",\n",
       "       \"One but less than two years certificate|Associate's degree\",\n",
       "       \"Two but less than 4 years certificate|Bachelor's degree|Postbaccalaureate certificate|Master's degree|Post-master's certificate|Doctor's degree - professional practice\",\n",
       "       \"Less than one year certificate|Associate's degree|Bachelor's degree|Master's degree|Doctor's degree - research/scholarship\",\n",
       "       \"Bachelor's degree|Postbaccalaureate certificate|Master's degree|Doctor's degree - research/scholarship\",\n",
       "       \"Associate's degree|Bachelor's degree|Postbaccalaureate certificate|Master's degree\",\n",
       "       \"Associate's degree|Bachelor's degree|Master's degree|Post-master's certificate|Doctor's degree - research/scholarship|Doctor's degree - professional practice\",\n",
       "       \"Bachelor's degree|Master's degree|Post-master's certificate\",\n",
       "       \"Less than one year certificate|Bachelor's degree|Postbaccalaureate certificate|Master's degree|Post-master's certificate|Doctor's degree - research/scholarship\",\n",
       "       \"Less than one year certificate|One but less than two years certificate|Associate's degree|Two but less than 4 years certificate|Bachelor's degree|Master's degree|Post-master's certificate|Doctor's degree - research/scholarship|Doctor's degree - professional practice\",\n",
       "       \"Two but less than 4 years certificate|Bachelor's degree|Master's degree|Post-master's certificate|Doctor's degree - research/scholarship|Doctor's degree - professional practice\",\n",
       "       \"Associate's degree|Bachelor's degree|Master's degree\",\n",
       "       \"Master's degree|Doctor's degree\",\n",
       "       \"Less than one year certificate|Associate's degree|Bachelor's degree|Postbaccalaureate certificate|Master's degree|Doctor's degree - professional practice\",\n",
       "       \"Associate's degree|Bachelor's degree|Master's degree|Doctor's degree - professional practice\",\n",
       "       \"Less than one year certificate|Associate's degree|Bachelor's degree|Postbaccalaureate certificate|Master's degree|Post-master's certificate\",\n",
       "       \"One but less than two years certificate|Associate's degree|Bachelor's degree|Master's degree\",\n",
       "       \"Master's degree|Doctor's degree - research/scholarship|Doctor's degree - professional practice\",\n",
       "       \"Bachelor's degree|Master's degree|Doctor's degree - research/scholarship|Doctor's degree - professional practice\",\n",
       "       \"Bachelor's degree|Master's degree|Doctor's degree - research/scholarship\",\n",
       "       \"Less than one year certificate|Associate's degree|Bachelor's degree|Postbaccalaureate certificate|Master's degree\",\n",
       "       \"Associate's degree\", \"Doctor's degree - professional practice\",\n",
       "       \"Associate's degree|Bachelor's degree|Postbaccalaureate certificate|Master's degree|Post-master's certificate|Doctor's degree - research/scholarship|Doctor's degree - professional practice\",\n",
       "       \"Less than one year certificate|One but less than two years certificate|Associate's degree|Bachelor's degree|Master's degree|Doctor's degree - research/scholarship\",\n",
       "       \"One but less than two years certificate|Bachelor's degree|Master's degree|Doctor's degree - research/scholarship|Doctor's degree - professional practice\",\n",
       "       \"Less than one year certificate|One but less than two years certificate|Associate's degree|Bachelor's degree|Postbaccalaureate certificate|Master's degree|Doctor's degree - research/scholarship|Doctor's degree - professional practice\",\n",
       "       \"Less than one year certificate|Associate's degree|Bachelor's degree|Master's degree|Post-master's certificate|Doctor's degree - research/scholarship\",\n",
       "       \"Less than one year certificate|Bachelor's degree|Postbaccalaureate certificate|Master's degree|Doctor's degree - research/scholarship\",\n",
       "       \"Bachelor's degree|Master's degree|Doctor's degree\",\n",
       "       \"One but less than two years certificate|Associate's degree|Bachelor's degree|Master's degree|Doctor's degree\",\n",
       "       \"Bachelor's degree|Postbaccalaureate certificate|Master's degree|Post-master's certificate|Doctor's degree - professional practice\",\n",
       "       \"Less than one year certificate|Bachelor's degree|Master's degree|Doctor's degree - research/scholarship|Doctor's degree - professional practice\",\n",
       "       nan], dtype=object)"
      ]
     },
     "execution_count": 34,
     "metadata": {},
     "output_type": "execute_result"
    }
   ],
   "source": [
    "#clean up dataset\n",
    "#clean up Awards offered\n",
    "csvFile['Awards offered'].unique()"
   ]
  }
 ],
 "metadata": {
  "kernelspec": {
   "display_name": "Python 3",
   "language": "python",
   "name": "python3"
  },
  "language_info": {
   "codemirror_mode": {
    "name": "ipython",
    "version": 3
   },
   "file_extension": ".py",
   "mimetype": "text/x-python",
   "name": "python",
   "nbconvert_exporter": "python",
   "pygments_lexer": "ipython3",
   "version": "3.12.2"
  }
 },
 "nbformat": 4,
 "nbformat_minor": 2
}
