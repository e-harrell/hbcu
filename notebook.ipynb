{
 "cells": [
  {
   "cell_type": "code",
   "execution_count": 61,
   "metadata": {},
   "outputs": [
    {
     "name": "stdout",
     "output_type": "stream",
     "text": [
      "Index(['Name', 'Address', 'Website', 'Type', 'Awards offered',\n",
      "       'Campus setting', 'Campus housing', 'Student population',\n",
      "       'Undergraduate students', 'Graduation Rate', 'Transfer-Out Rate',\n",
      "       'Cohort Year *', 'Net Price **', 'Largest Program', 'IPEDS ID',\n",
      "       'OPE ID'],\n",
      "      dtype='object')\n"
     ]
    }
   ],
   "source": [
    "#show all output in each cell\n",
    "from IPython.core.interactiveshell import InteractiveShell\n",
    "InteractiveShell.ast_node_interactivity = \"all\"\n",
    "#import packages\n",
    "import pandas as pd\n",
    "import numpy as np\n",
    "#read in dataset\n",
    "df = pd.read_csv('hbcu.csv')\n",
    "#print out column names\n",
    "print(df.columns)"
   ]
  },
  {
   "cell_type": "code",
   "execution_count": 62,
   "metadata": {},
   "outputs": [
    {
     "name": "stdout",
     "output_type": "stream",
     "text": [
      "<class 'pandas.core.frame.DataFrame'>\n",
      "RangeIndex: 105 entries, 0 to 104\n",
      "Data columns (total 16 columns):\n",
      " #   Column                  Non-Null Count  Dtype  \n",
      "---  ------                  --------------  -----  \n",
      " 0   Name                    102 non-null    object \n",
      " 1   Address                 105 non-null    object \n",
      " 2   Website                 102 non-null    object \n",
      " 3   Type                    102 non-null    object \n",
      " 4   Awards offered          102 non-null    object \n",
      " 5   Campus setting          101 non-null    object \n",
      " 6   Campus housing          102 non-null    object \n",
      " 7   Student population      100 non-null    float64\n",
      " 8   Undergraduate students  97 non-null     float64\n",
      " 9   Graduation Rate         96 non-null     object \n",
      " 10  Transfer-Out Rate       63 non-null     object \n",
      " 11  Cohort Year *           102 non-null    object \n",
      " 12  Net Price **            96 non-null     object \n",
      " 13  Largest Program         102 non-null    object \n",
      " 14  IPEDS ID                102 non-null    float64\n",
      " 15  OPE ID                  101 non-null    float64\n",
      "dtypes: float64(4), object(12)\n",
      "memory usage: 13.3+ KB\n"
     ]
    }
   ],
   "source": [
    "#get data type for each column\n",
    "df.info()"
   ]
  },
  {
   "cell_type": "code",
   "execution_count": 63,
   "metadata": {},
   "outputs": [
    {
     "data": {
      "text/plain": [
       "array([\"Bachelor's degree|Master's degree|Post-master's certificate|Doctor's degree - research/scholarship\",\n",
       "       \"Bachelor's degree|Postbaccalaureate certificate|Master's degree|Post-master's certificate|Doctor's degree - research/scholarship|Doctor's degree - professional practice\",\n",
       "       \"Less than one year certificate|One but less than two years certificate|Associate's degree|Bachelor's degree|Master's degree|Post-master's certificate\",\n",
       "       \"Associate's degree|Bachelor's degree|Master's degree|Post-master's certificate|Doctor's degree - professional practice\",\n",
       "       \"Associate's degree|Bachelor's degree|Master's degree|Doctor's degree - research/scholarship\",\n",
       "       \"Associate's degree|Bachelor's degree\",\n",
       "       \"Bachelor's degree|Master's degree\", \"Bachelor's degree\",\n",
       "       \"Bachelor's degree|Postbaccalaureate certificate|Master's degree\",\n",
       "       \"Less than one year certificate|One but less than two years certificate|Associate's degree\",\n",
       "       \"Less than one year certificate|Associate's degree|Bachelor's degree|Master's degree\",\n",
       "       \"Bachelor's degree|Postbaccalaureate certificate|Master's degree|Post-master's certificate|Doctor's degree - research/scholarship\",\n",
       "       \"One but less than two years certificate|Bachelor's degree|Master's degree\",\n",
       "       \"Less than one year certificate|Bachelor's degree\",\n",
       "       \"One but less than two years certificate|Associate's degree\",\n",
       "       \"Two but less than 4 years certificate|Bachelor's degree|Postbaccalaureate certificate|Master's degree|Post-master's certificate|Doctor's degree - professional practice\",\n",
       "       \"Less than one year certificate|Associate's degree|Bachelor's degree|Master's degree|Doctor's degree - research/scholarship\",\n",
       "       \"Bachelor's degree|Postbaccalaureate certificate|Master's degree|Doctor's degree - research/scholarship\",\n",
       "       \"Associate's degree|Bachelor's degree|Postbaccalaureate certificate|Master's degree\",\n",
       "       \"Associate's degree|Bachelor's degree|Master's degree|Post-master's certificate|Doctor's degree - research/scholarship|Doctor's degree - professional practice\",\n",
       "       \"Bachelor's degree|Master's degree|Post-master's certificate\",\n",
       "       \"Less than one year certificate|Bachelor's degree|Postbaccalaureate certificate|Master's degree|Post-master's certificate|Doctor's degree - research/scholarship\",\n",
       "       \"Less than one year certificate|One but less than two years certificate|Associate's degree|Two but less than 4 years certificate|Bachelor's degree|Master's degree|Post-master's certificate|Doctor's degree - research/scholarship|Doctor's degree - professional practice\",\n",
       "       \"Two but less than 4 years certificate|Bachelor's degree|Master's degree|Post-master's certificate|Doctor's degree - research/scholarship|Doctor's degree - professional practice\",\n",
       "       \"Associate's degree|Bachelor's degree|Master's degree\",\n",
       "       \"Master's degree|Doctor's degree\",\n",
       "       \"Less than one year certificate|Associate's degree|Bachelor's degree|Postbaccalaureate certificate|Master's degree|Doctor's degree - professional practice\",\n",
       "       \"Associate's degree|Bachelor's degree|Master's degree|Doctor's degree - professional practice\",\n",
       "       \"Less than one year certificate|Associate's degree|Bachelor's degree|Postbaccalaureate certificate|Master's degree|Post-master's certificate\",\n",
       "       \"One but less than two years certificate|Associate's degree|Bachelor's degree|Master's degree\",\n",
       "       \"Master's degree|Doctor's degree - research/scholarship|Doctor's degree - professional practice\",\n",
       "       \"Bachelor's degree|Master's degree|Doctor's degree - research/scholarship|Doctor's degree - professional practice\",\n",
       "       \"Bachelor's degree|Master's degree|Doctor's degree - research/scholarship\",\n",
       "       \"Less than one year certificate|Associate's degree|Bachelor's degree|Postbaccalaureate certificate|Master's degree\",\n",
       "       \"Associate's degree\", \"Doctor's degree - professional practice\",\n",
       "       \"Associate's degree|Bachelor's degree|Postbaccalaureate certificate|Master's degree|Post-master's certificate|Doctor's degree - research/scholarship|Doctor's degree - professional practice\",\n",
       "       \"Less than one year certificate|One but less than two years certificate|Associate's degree|Bachelor's degree|Master's degree|Doctor's degree - research/scholarship\",\n",
       "       \"One but less than two years certificate|Bachelor's degree|Master's degree|Doctor's degree - research/scholarship|Doctor's degree - professional practice\",\n",
       "       \"Less than one year certificate|One but less than two years certificate|Associate's degree|Bachelor's degree|Postbaccalaureate certificate|Master's degree|Doctor's degree - research/scholarship|Doctor's degree - professional practice\",\n",
       "       \"Less than one year certificate|Associate's degree|Bachelor's degree|Master's degree|Post-master's certificate|Doctor's degree - research/scholarship\",\n",
       "       \"Less than one year certificate|Bachelor's degree|Postbaccalaureate certificate|Master's degree|Doctor's degree - research/scholarship\",\n",
       "       \"Bachelor's degree|Master's degree|Doctor's degree\",\n",
       "       \"One but less than two years certificate|Associate's degree|Bachelor's degree|Master's degree|Doctor's degree\",\n",
       "       \"Bachelor's degree|Postbaccalaureate certificate|Master's degree|Post-master's certificate|Doctor's degree - professional practice\",\n",
       "       \"Less than one year certificate|Bachelor's degree|Master's degree|Doctor's degree - research/scholarship|Doctor's degree - professional practice\",\n",
       "       nan], dtype=object)"
      ]
     },
     "execution_count": 63,
     "metadata": {},
     "output_type": "execute_result"
    }
   ],
   "source": [
    "#clean dataset and create variables\n",
    "#create new highest degree column\n",
    "#get unique values for 'awards offered' column\n",
    "df['Awards offered'].unique()"
   ]
  },
  {
   "cell_type": "code",
   "execution_count": 64,
   "metadata": {},
   "outputs": [
    {
     "data": {
      "text/plain": [
       "3"
      ]
     },
     "execution_count": 64,
     "metadata": {},
     "output_type": "execute_result"
    },
    {
     "data": {
      "text/plain": [
       "0"
      ]
     },
     "execution_count": 64,
     "metadata": {},
     "output_type": "execute_result"
    }
   ],
   "source": [
    "#find and fill in NaN values\n",
    "df['Awards offered'].isna().sum()\n",
    "df['Awards offered'] = df['Awards offered'].fillna('Missing')\n",
    "df['Awards offered'].isna().sum()"
   ]
  },
  {
   "cell_type": "code",
   "execution_count": 65,
   "metadata": {},
   "outputs": [],
   "source": [
    "df['Doctor'] = df['Awards offered'].str.contains('Doctor')\n",
    "df['Master'] = df['Awards offered'].str.contains('Master')\n",
    "df['Bachelor'] = df['Awards offered'].str.contains('Bachelor')\n",
    "df['Associate'] = df['Awards offered'].str.contains('Associate')"
   ]
  },
  {
   "cell_type": "code",
   "execution_count": 95,
   "metadata": {},
   "outputs": [
    {
     "data": {
      "text/plain": [
       "Highest Degree\n",
       "Doctor       40\n",
       "Master       33\n",
       "Bachelor     18\n",
       "Associate    11\n",
       "Unknown       3\n",
       "Name: count, dtype: int64"
      ]
     },
     "execution_count": 95,
     "metadata": {},
     "output_type": "execute_result"
    }
   ],
   "source": [
    "#create highest degree column\n",
    "df['Highest Degree'] = 'Unknown'\n",
    "df.loc[df['Associate'] == True, 'Highest Degree'] = 'Associate' \n",
    "df.loc[df['Bachelor'] == True, 'Highest Degree'] = 'Bachelor' \n",
    "df.loc[df['Master'] == True, 'Highest Degree'] = 'Master' \n",
    "df.loc[df['Doctor'] == True, 'Highest Degree'] = 'Doctor' \n",
    "df['Highest Degree'].value_counts()\n"
   ]
  }
 ],
 "metadata": {
  "kernelspec": {
   "display_name": "Python 3",
   "language": "python",
   "name": "python3"
  },
  "language_info": {
   "codemirror_mode": {
    "name": "ipython",
    "version": 3
   },
   "file_extension": ".py",
   "mimetype": "text/x-python",
   "name": "python",
   "nbconvert_exporter": "python",
   "pygments_lexer": "ipython3",
   "version": "3.12.2"
  }
 },
 "nbformat": 4,
 "nbformat_minor": 2
}
