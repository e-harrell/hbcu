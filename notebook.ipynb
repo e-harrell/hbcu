{
 "cells": [
  {
   "cell_type": "code",
   "execution_count": 24,
   "metadata": {},
   "outputs": [
    {
     "name": "stdout",
     "output_type": "stream",
     "text": [
      "Index(['Name', 'Address', 'Website', 'Type', 'Awards offered',\n",
      "       'Campus setting', 'Campus housing', 'Student population',\n",
      "       'Undergraduate students', 'Graduation Rate', 'Transfer-Out Rate',\n",
      "       'Cohort Year *', 'Net Price **', 'Largest Program', 'IPEDS ID',\n",
      "       'OPE ID'],\n",
      "      dtype='object')\n"
     ]
    }
   ],
   "source": [
    "#show all output in each cell\n",
    "from IPython.core.interactiveshell import InteractiveShell\n",
    "InteractiveShell.ast_node_interactivity = \"all\"\n",
    "#import packages\n",
    "import pandas as pd\n",
    "import numpy as np\n",
    "#read in dataset\n",
    "df = pd.read_csv('hbcu.csv')\n",
    "#print out column names\n",
    "print(df.columns)"
   ]
  },
  {
   "cell_type": "code",
   "execution_count": null,
   "metadata": {},
   "outputs": [],
   "source": [
    "#get data type for each column\n",
    "df.info()"
   ]
  },
  {
   "cell_type": "code",
   "execution_count": null,
   "metadata": {},
   "outputs": [],
   "source": [
    "#work on dataset\n",
    "#create new highest degree column\n",
    "df['Awards offered'].unique()"
   ]
  },
  {
   "cell_type": "code",
   "execution_count": 37,
   "metadata": {},
   "outputs": [
    {
     "name": "stdout",
     "output_type": "stream",
     "text": [
      "Index(['Name', 'Address', 'Website', 'Type', 'Awards offered',\n",
      "       'Campus setting', 'Campus housing', 'Student population',\n",
      "       'Undergraduate students', 'Graduation Rate', 'Transfer-Out Rate',\n",
      "       'Cohort Year *', 'Net Price **', 'Largest Program', 'IPEDS ID',\n",
      "       'OPE ID'],\n",
      "      dtype='object')\n"
     ]
    }
   ],
   "source": [
    "#create column for highest degree offered\n",
    "print(df.columns)"
   ]
  },
  {
   "cell_type": "code",
   "execution_count": 49,
   "metadata": {},
   "outputs": [
    {
     "data": {
      "text/plain": [
       "3"
      ]
     },
     "execution_count": 49,
     "metadata": {},
     "output_type": "execute_result"
    },
    {
     "data": {
      "text/plain": [
       "0"
      ]
     },
     "execution_count": 49,
     "metadata": {},
     "output_type": "execute_result"
    }
   ],
   "source": [
    "#fill in NaN values\n",
    "df['Awards offered'].isna().sum()\n",
    "df['Awards offered'].fillna('Missing', inplace=True)\n",
    "df['Awards offered'].isna().sum()"
   ]
  },
  {
   "cell_type": "code",
   "execution_count": 64,
   "metadata": {},
   "outputs": [
    {
     "data": {
      "text/plain": [
       "0       True\n",
       "1       True\n",
       "2      False\n",
       "3       True\n",
       "4       True\n",
       "       ...  \n",
       "100     True\n",
       "101     True\n",
       "102    False\n",
       "103    False\n",
       "104    False\n",
       "Name: Awards offered, Length: 105, dtype: bool"
      ]
     },
     "execution_count": 64,
     "metadata": {},
     "output_type": "execute_result"
    }
   ],
   "source": [
    "df['Awards offered'].str.contains('Doctor')\n",
    "\n"
   ]
  }
 ],
 "metadata": {
  "kernelspec": {
   "display_name": "Python 3",
   "language": "python",
   "name": "python3"
  },
  "language_info": {
   "codemirror_mode": {
    "name": "ipython",
    "version": 3
   },
   "file_extension": ".py",
   "mimetype": "text/x-python",
   "name": "python",
   "nbconvert_exporter": "python",
   "pygments_lexer": "ipython3",
   "version": "3.12.2"
  }
 },
 "nbformat": 4,
 "nbformat_minor": 2
}
