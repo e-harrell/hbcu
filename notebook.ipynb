{
 "cells": [
  {
   "cell_type": "code",
   "execution_count": 1,
   "metadata": {},
   "outputs": [
    {
     "name": "stdout",
     "output_type": "stream",
     "text": [
      "Index(['Name', 'Address', 'Website', 'Type', 'Awards offered',\n",
      "       'Campus setting', 'Campus housing', 'Student population',\n",
      "       'Undergraduate students', 'Graduation Rate', 'Transfer-Out Rate',\n",
      "       'Cohort Year *', 'Net Price **', 'Largest Program', 'IPEDS ID',\n",
      "       'OPE ID'],\n",
      "      dtype='object')\n"
     ]
    }
   ],
   "source": [
    "#show all output in each cell\n",
    "from IPython.core.interactiveshell import InteractiveShell\n",
    "InteractiveShell.ast_node_interactivity = \"all\"\n",
    "#import packages\n",
    "import pandas as pd\n",
    "import numpy as np\n",
    "import matplotlib.pyplot as plt\n",
    "import plotly.express as px\n",
    "import regex as re\n",
    "from geopy.geocoders import Nominatim\n",
    "#read in dataset\n",
    "df = pd.read_csv('hbcu.csv')\n",
    "#print out column names\n",
    "print(df.columns)"
   ]
  },
  {
   "cell_type": "code",
   "execution_count": 2,
   "metadata": {},
   "outputs": [
    {
     "name": "stdout",
     "output_type": "stream",
     "text": [
      "<class 'pandas.core.frame.DataFrame'>\n",
      "RangeIndex: 105 entries, 0 to 104\n",
      "Data columns (total 16 columns):\n",
      " #   Column                  Non-Null Count  Dtype  \n",
      "---  ------                  --------------  -----  \n",
      " 0   Name                    102 non-null    object \n",
      " 1   Address                 105 non-null    object \n",
      " 2   Website                 102 non-null    object \n",
      " 3   Type                    102 non-null    object \n",
      " 4   Awards offered          102 non-null    object \n",
      " 5   Campus setting          101 non-null    object \n",
      " 6   Campus housing          102 non-null    object \n",
      " 7   Student population      100 non-null    float64\n",
      " 8   Undergraduate students  97 non-null     float64\n",
      " 9   Graduation Rate         96 non-null     object \n",
      " 10  Transfer-Out Rate       63 non-null     object \n",
      " 11  Cohort Year *           102 non-null    object \n",
      " 12  Net Price **            96 non-null     object \n",
      " 13  Largest Program         102 non-null    object \n",
      " 14  IPEDS ID                102 non-null    float64\n",
      " 15  OPE ID                  101 non-null    float64\n",
      "dtypes: float64(4), object(12)\n",
      "memory usage: 13.3+ KB\n"
     ]
    }
   ],
   "source": [
    "#get data type for each column\n",
    "df.info()"
   ]
  },
  {
   "cell_type": "code",
   "execution_count": 3,
   "metadata": {},
   "outputs": [
    {
     "data": {
      "text/plain": [
       "3"
      ]
     },
     "execution_count": 3,
     "metadata": {},
     "output_type": "execute_result"
    },
    {
     "data": {
      "text/plain": [
       "0"
      ]
     },
     "execution_count": 3,
     "metadata": {},
     "output_type": "execute_result"
    }
   ],
   "source": [
    "#check Name column for missing data\n",
    "df['Name'].isna().sum()\n",
    "#remove rows with missing Names\n",
    "df = df[df['Name'].notna()]\n",
    "df['Name'].isna().sum()"
   ]
  },
  {
   "cell_type": "code",
   "execution_count": 4,
   "metadata": {},
   "outputs": [
    {
     "name": "stdout",
     "output_type": "stream",
     "text": [
      "<class 'pandas.core.frame.DataFrame'>\n",
      "Index: 102 entries, 0 to 101\n",
      "Data columns (total 16 columns):\n",
      " #   Column                  Non-Null Count  Dtype  \n",
      "---  ------                  --------------  -----  \n",
      " 0   Name                    102 non-null    object \n",
      " 1   Address                 102 non-null    object \n",
      " 2   Website                 102 non-null    object \n",
      " 3   Type                    102 non-null    object \n",
      " 4   Awards offered          102 non-null    object \n",
      " 5   Campus setting          101 non-null    object \n",
      " 6   Campus housing          102 non-null    object \n",
      " 7   Student population      100 non-null    float64\n",
      " 8   Undergraduate students  97 non-null     float64\n",
      " 9   Graduation Rate         96 non-null     object \n",
      " 10  Transfer-Out Rate       63 non-null     object \n",
      " 11  Cohort Year *           102 non-null    object \n",
      " 12  Net Price **            96 non-null     object \n",
      " 13  Largest Program         102 non-null    object \n",
      " 14  IPEDS ID                102 non-null    float64\n",
      " 15  OPE ID                  101 non-null    float64\n",
      "dtypes: float64(4), object(12)\n",
      "memory usage: 13.5+ KB\n"
     ]
    }
   ],
   "source": [
    "#get information on dataframe after rows with missing Names are removed\n",
    "df.info()"
   ]
  },
  {
   "cell_type": "code",
   "execution_count": 5,
   "metadata": {},
   "outputs": [
    {
     "data": {
      "text/plain": [
       "array([\"Bachelor's degree|Master's degree|Post-master's certificate|Doctor's degree - research/scholarship\",\n",
       "       \"Bachelor's degree|Postbaccalaureate certificate|Master's degree|Post-master's certificate|Doctor's degree - research/scholarship|Doctor's degree - professional practice\",\n",
       "       \"Less than one year certificate|One but less than two years certificate|Associate's degree|Bachelor's degree|Master's degree|Post-master's certificate\",\n",
       "       \"Associate's degree|Bachelor's degree|Master's degree|Post-master's certificate|Doctor's degree - professional practice\",\n",
       "       \"Associate's degree|Bachelor's degree|Master's degree|Doctor's degree - research/scholarship\",\n",
       "       \"Associate's degree|Bachelor's degree\",\n",
       "       \"Bachelor's degree|Master's degree\", \"Bachelor's degree\",\n",
       "       \"Bachelor's degree|Postbaccalaureate certificate|Master's degree\",\n",
       "       \"Less than one year certificate|One but less than two years certificate|Associate's degree\",\n",
       "       \"Less than one year certificate|Associate's degree|Bachelor's degree|Master's degree\",\n",
       "       \"Bachelor's degree|Postbaccalaureate certificate|Master's degree|Post-master's certificate|Doctor's degree - research/scholarship\",\n",
       "       \"One but less than two years certificate|Bachelor's degree|Master's degree\",\n",
       "       \"Less than one year certificate|Bachelor's degree\",\n",
       "       \"One but less than two years certificate|Associate's degree\",\n",
       "       \"Two but less than 4 years certificate|Bachelor's degree|Postbaccalaureate certificate|Master's degree|Post-master's certificate|Doctor's degree - professional practice\",\n",
       "       \"Less than one year certificate|Associate's degree|Bachelor's degree|Master's degree|Doctor's degree - research/scholarship\",\n",
       "       \"Bachelor's degree|Postbaccalaureate certificate|Master's degree|Doctor's degree - research/scholarship\",\n",
       "       \"Associate's degree|Bachelor's degree|Postbaccalaureate certificate|Master's degree\",\n",
       "       \"Associate's degree|Bachelor's degree|Master's degree|Post-master's certificate|Doctor's degree - research/scholarship|Doctor's degree - professional practice\",\n",
       "       \"Bachelor's degree|Master's degree|Post-master's certificate\",\n",
       "       \"Less than one year certificate|Bachelor's degree|Postbaccalaureate certificate|Master's degree|Post-master's certificate|Doctor's degree - research/scholarship\",\n",
       "       \"Less than one year certificate|One but less than two years certificate|Associate's degree|Two but less than 4 years certificate|Bachelor's degree|Master's degree|Post-master's certificate|Doctor's degree - research/scholarship|Doctor's degree - professional practice\",\n",
       "       \"Two but less than 4 years certificate|Bachelor's degree|Master's degree|Post-master's certificate|Doctor's degree - research/scholarship|Doctor's degree - professional practice\",\n",
       "       \"Associate's degree|Bachelor's degree|Master's degree\",\n",
       "       \"Master's degree|Doctor's degree\",\n",
       "       \"Less than one year certificate|Associate's degree|Bachelor's degree|Postbaccalaureate certificate|Master's degree|Doctor's degree - professional practice\",\n",
       "       \"Associate's degree|Bachelor's degree|Master's degree|Doctor's degree - professional practice\",\n",
       "       \"Less than one year certificate|Associate's degree|Bachelor's degree|Postbaccalaureate certificate|Master's degree|Post-master's certificate\",\n",
       "       \"One but less than two years certificate|Associate's degree|Bachelor's degree|Master's degree\",\n",
       "       \"Master's degree|Doctor's degree - research/scholarship|Doctor's degree - professional practice\",\n",
       "       \"Bachelor's degree|Master's degree|Doctor's degree - research/scholarship|Doctor's degree - professional practice\",\n",
       "       \"Bachelor's degree|Master's degree|Doctor's degree - research/scholarship\",\n",
       "       \"Less than one year certificate|Associate's degree|Bachelor's degree|Postbaccalaureate certificate|Master's degree\",\n",
       "       \"Associate's degree\", \"Doctor's degree - professional practice\",\n",
       "       \"Associate's degree|Bachelor's degree|Postbaccalaureate certificate|Master's degree|Post-master's certificate|Doctor's degree - research/scholarship|Doctor's degree - professional practice\",\n",
       "       \"Less than one year certificate|One but less than two years certificate|Associate's degree|Bachelor's degree|Master's degree|Doctor's degree - research/scholarship\",\n",
       "       \"One but less than two years certificate|Bachelor's degree|Master's degree|Doctor's degree - research/scholarship|Doctor's degree - professional practice\",\n",
       "       \"Less than one year certificate|One but less than two years certificate|Associate's degree|Bachelor's degree|Postbaccalaureate certificate|Master's degree|Doctor's degree - research/scholarship|Doctor's degree - professional practice\",\n",
       "       \"Less than one year certificate|Associate's degree|Bachelor's degree|Master's degree|Post-master's certificate|Doctor's degree - research/scholarship\",\n",
       "       \"Less than one year certificate|Bachelor's degree|Postbaccalaureate certificate|Master's degree|Doctor's degree - research/scholarship\",\n",
       "       \"Bachelor's degree|Master's degree|Doctor's degree\",\n",
       "       \"One but less than two years certificate|Associate's degree|Bachelor's degree|Master's degree|Doctor's degree\",\n",
       "       \"Bachelor's degree|Postbaccalaureate certificate|Master's degree|Post-master's certificate|Doctor's degree - professional practice\",\n",
       "       \"Less than one year certificate|Bachelor's degree|Master's degree|Doctor's degree - research/scholarship|Doctor's degree - professional practice\"],\n",
       "      dtype=object)"
      ]
     },
     "execution_count": 5,
     "metadata": {},
     "output_type": "execute_result"
    }
   ],
   "source": [
    "#create new highest degree column\n",
    "#get unique values for 'Awards Offered' column\n",
    "df['Awards offered'].unique()"
   ]
  },
  {
   "cell_type": "code",
   "execution_count": 6,
   "metadata": {},
   "outputs": [
    {
     "data": {
      "text/plain": [
       "0"
      ]
     },
     "execution_count": 6,
     "metadata": {},
     "output_type": "execute_result"
    }
   ],
   "source": [
    "#find NaN values\n",
    "df['Awards offered'].isna().sum()"
   ]
  },
  {
   "cell_type": "code",
   "execution_count": 7,
   "metadata": {},
   "outputs": [],
   "source": [
    "#creating binary variables for each degree type\n",
    "df['Doctor'] = df['Awards offered'].str.contains('Doctor')\n",
    "df['Master'] = df['Awards offered'].str.contains('Master')\n",
    "df['Bachelor'] = df['Awards offered'].str.contains('Bachelor')\n",
    "df['Associate'] = df['Awards offered'].str.contains('Associate')"
   ]
  },
  {
   "cell_type": "code",
   "execution_count": 8,
   "metadata": {},
   "outputs": [
    {
     "data": {
      "text/plain": [
       "Highest Degree\n",
       "Doctoral degree       40\n",
       "Master's degree       33\n",
       "Bachelor's degree     18\n",
       "Associate's degree    11\n",
       "Name: count, dtype: int64"
      ]
     },
     "execution_count": 8,
     "metadata": {},
     "output_type": "execute_result"
    }
   ],
   "source": [
    "#create highest degree column\n",
    "df.loc[df['Associate'] == True, 'Highest Degree'] = 'Associate\\'s degree' \n",
    "df.loc[df['Bachelor'] == True, 'Highest Degree'] = 'Bachelor\\'s degree' \n",
    "df.loc[df['Master'] == True, 'Highest Degree'] = 'Master\\'s degree' \n",
    "df.loc[df['Doctor'] == True, 'Highest Degree'] = 'Doctoral degree' \n",
    "df['Highest Degree'].value_counts()"
   ]
  },
  {
   "cell_type": "code",
   "execution_count": 9,
   "metadata": {},
   "outputs": [
    {
     "data": {
      "text/plain": [
       "Index(['Name', 'Address', 'Website', 'Type', 'Awards offered',\n",
       "       'Campus setting', 'Campus housing', 'Student population',\n",
       "       'Undergraduate students', 'Graduation Rate', 'Transfer-Out Rate',\n",
       "       'Cohort Year *', 'Net Price **', 'Largest Program', 'IPEDS ID',\n",
       "       'OPE ID', 'Highest Degree'],\n",
       "      dtype='object')"
      ]
     },
     "execution_count": 9,
     "metadata": {},
     "output_type": "execute_result"
    }
   ],
   "source": [
    "#remove columns used to create Highest degree column\n",
    "df = df.drop(['Associate','Bachelor','Master', 'Doctor'], axis=1)\n",
    "#Make sure columns are dropped\n",
    "df.columns"
   ]
  },
  {
   "cell_type": "code",
   "execution_count": 10,
   "metadata": {},
   "outputs": [
    {
     "data": {
      "application/vnd.plotly.v1+json": {
       "config": {
        "plotlyServerURL": "https://plot.ly"
       },
       "data": [
        {
         "alignmentgroup": "True",
         "bingroup": "x",
         "hovertemplate": "Highest Degree=%{x}<br>count=%{y}<extra></extra>",
         "legendgroup": "",
         "marker": {
          "color": "navy",
          "pattern": {
           "shape": ""
          }
         },
         "name": "",
         "offsetgroup": "",
         "orientation": "v",
         "showlegend": false,
         "type": "histogram",
         "x": [
          "Doctoral degree",
          "Doctoral degree",
          "Master's degree",
          "Doctoral degree",
          "Doctoral degree",
          "Bachelor's degree",
          "Bachelor's degree",
          "Master's degree",
          "Bachelor's degree",
          "Master's degree",
          "Associate's degree",
          "Master's degree",
          "Doctoral degree",
          "Master's degree",
          "Bachelor's degree",
          "Master's degree",
          "Doctoral degree",
          "Bachelor's degree",
          "Associate's degree",
          "Doctoral degree",
          "Doctoral degree",
          "Associate's degree",
          "Master's degree",
          "Master's degree",
          "Master's degree",
          "Doctoral degree",
          "Master's degree",
          "Doctoral degree",
          "Master's degree",
          "Master's degree",
          "Associate's degree",
          "Doctoral degree",
          "Associate's degree",
          "Doctoral degree",
          "Bachelor's degree",
          "Doctoral degree",
          "Master's degree",
          "Doctoral degree",
          "Associate's degree",
          "Doctoral degree",
          "Master's degree",
          "Master's degree",
          "Doctoral degree",
          "Bachelor's degree",
          "Doctoral degree",
          "Associate's degree",
          "Bachelor's degree",
          "Master's degree",
          "Master's degree",
          "Master's degree",
          "Doctoral degree",
          "Bachelor's degree",
          "Master's degree",
          "Bachelor's degree",
          "Doctoral degree",
          "Doctoral degree",
          "Bachelor's degree",
          "Doctoral degree",
          "Doctoral degree",
          "Doctoral degree",
          "Master's degree",
          "Bachelor's degree",
          "Master's degree",
          "Master's degree",
          "Doctoral degree",
          "Bachelor's degree",
          "Master's degree",
          "Master's degree",
          "Master's degree",
          "Master's degree",
          "Associate's degree",
          "Associate's degree",
          "Master's degree",
          "Doctoral degree",
          "Doctoral degree",
          "Master's degree",
          "Associate's degree",
          "Doctoral degree",
          "Bachelor's degree",
          "Bachelor's degree",
          "Associate's degree",
          "Bachelor's degree",
          "Master's degree",
          "Doctoral degree",
          "Bachelor's degree",
          "Doctoral degree",
          "Master's degree",
          "Doctoral degree",
          "Doctoral degree",
          "Doctoral degree",
          "Doctoral degree",
          "Doctoral degree",
          "Doctoral degree",
          "Doctoral degree",
          "Doctoral degree",
          "Doctoral degree",
          "Master's degree",
          "Master's degree",
          "Master's degree",
          "Bachelor's degree",
          "Doctoral degree",
          "Doctoral degree"
         ],
         "xaxis": "x",
         "yaxis": "y"
        }
       ],
       "layout": {
        "barmode": "relative",
        "legend": {
         "tracegroupgap": 0
        },
        "template": {
         "data": {
          "bar": [
           {
            "error_x": {
             "color": "#2a3f5f"
            },
            "error_y": {
             "color": "#2a3f5f"
            },
            "marker": {
             "line": {
              "color": "#E5ECF6",
              "width": 0.5
             },
             "pattern": {
              "fillmode": "overlay",
              "size": 10,
              "solidity": 0.2
             }
            },
            "type": "bar"
           }
          ],
          "barpolar": [
           {
            "marker": {
             "line": {
              "color": "#E5ECF6",
              "width": 0.5
             },
             "pattern": {
              "fillmode": "overlay",
              "size": 10,
              "solidity": 0.2
             }
            },
            "type": "barpolar"
           }
          ],
          "carpet": [
           {
            "aaxis": {
             "endlinecolor": "#2a3f5f",
             "gridcolor": "white",
             "linecolor": "white",
             "minorgridcolor": "white",
             "startlinecolor": "#2a3f5f"
            },
            "baxis": {
             "endlinecolor": "#2a3f5f",
             "gridcolor": "white",
             "linecolor": "white",
             "minorgridcolor": "white",
             "startlinecolor": "#2a3f5f"
            },
            "type": "carpet"
           }
          ],
          "choropleth": [
           {
            "colorbar": {
             "outlinewidth": 0,
             "ticks": ""
            },
            "type": "choropleth"
           }
          ],
          "contour": [
           {
            "colorbar": {
             "outlinewidth": 0,
             "ticks": ""
            },
            "colorscale": [
             [
              0,
              "#0d0887"
             ],
             [
              0.1111111111111111,
              "#46039f"
             ],
             [
              0.2222222222222222,
              "#7201a8"
             ],
             [
              0.3333333333333333,
              "#9c179e"
             ],
             [
              0.4444444444444444,
              "#bd3786"
             ],
             [
              0.5555555555555556,
              "#d8576b"
             ],
             [
              0.6666666666666666,
              "#ed7953"
             ],
             [
              0.7777777777777778,
              "#fb9f3a"
             ],
             [
              0.8888888888888888,
              "#fdca26"
             ],
             [
              1,
              "#f0f921"
             ]
            ],
            "type": "contour"
           }
          ],
          "contourcarpet": [
           {
            "colorbar": {
             "outlinewidth": 0,
             "ticks": ""
            },
            "type": "contourcarpet"
           }
          ],
          "heatmap": [
           {
            "colorbar": {
             "outlinewidth": 0,
             "ticks": ""
            },
            "colorscale": [
             [
              0,
              "#0d0887"
             ],
             [
              0.1111111111111111,
              "#46039f"
             ],
             [
              0.2222222222222222,
              "#7201a8"
             ],
             [
              0.3333333333333333,
              "#9c179e"
             ],
             [
              0.4444444444444444,
              "#bd3786"
             ],
             [
              0.5555555555555556,
              "#d8576b"
             ],
             [
              0.6666666666666666,
              "#ed7953"
             ],
             [
              0.7777777777777778,
              "#fb9f3a"
             ],
             [
              0.8888888888888888,
              "#fdca26"
             ],
             [
              1,
              "#f0f921"
             ]
            ],
            "type": "heatmap"
           }
          ],
          "heatmapgl": [
           {
            "colorbar": {
             "outlinewidth": 0,
             "ticks": ""
            },
            "colorscale": [
             [
              0,
              "#0d0887"
             ],
             [
              0.1111111111111111,
              "#46039f"
             ],
             [
              0.2222222222222222,
              "#7201a8"
             ],
             [
              0.3333333333333333,
              "#9c179e"
             ],
             [
              0.4444444444444444,
              "#bd3786"
             ],
             [
              0.5555555555555556,
              "#d8576b"
             ],
             [
              0.6666666666666666,
              "#ed7953"
             ],
             [
              0.7777777777777778,
              "#fb9f3a"
             ],
             [
              0.8888888888888888,
              "#fdca26"
             ],
             [
              1,
              "#f0f921"
             ]
            ],
            "type": "heatmapgl"
           }
          ],
          "histogram": [
           {
            "marker": {
             "pattern": {
              "fillmode": "overlay",
              "size": 10,
              "solidity": 0.2
             }
            },
            "type": "histogram"
           }
          ],
          "histogram2d": [
           {
            "colorbar": {
             "outlinewidth": 0,
             "ticks": ""
            },
            "colorscale": [
             [
              0,
              "#0d0887"
             ],
             [
              0.1111111111111111,
              "#46039f"
             ],
             [
              0.2222222222222222,
              "#7201a8"
             ],
             [
              0.3333333333333333,
              "#9c179e"
             ],
             [
              0.4444444444444444,
              "#bd3786"
             ],
             [
              0.5555555555555556,
              "#d8576b"
             ],
             [
              0.6666666666666666,
              "#ed7953"
             ],
             [
              0.7777777777777778,
              "#fb9f3a"
             ],
             [
              0.8888888888888888,
              "#fdca26"
             ],
             [
              1,
              "#f0f921"
             ]
            ],
            "type": "histogram2d"
           }
          ],
          "histogram2dcontour": [
           {
            "colorbar": {
             "outlinewidth": 0,
             "ticks": ""
            },
            "colorscale": [
             [
              0,
              "#0d0887"
             ],
             [
              0.1111111111111111,
              "#46039f"
             ],
             [
              0.2222222222222222,
              "#7201a8"
             ],
             [
              0.3333333333333333,
              "#9c179e"
             ],
             [
              0.4444444444444444,
              "#bd3786"
             ],
             [
              0.5555555555555556,
              "#d8576b"
             ],
             [
              0.6666666666666666,
              "#ed7953"
             ],
             [
              0.7777777777777778,
              "#fb9f3a"
             ],
             [
              0.8888888888888888,
              "#fdca26"
             ],
             [
              1,
              "#f0f921"
             ]
            ],
            "type": "histogram2dcontour"
           }
          ],
          "mesh3d": [
           {
            "colorbar": {
             "outlinewidth": 0,
             "ticks": ""
            },
            "type": "mesh3d"
           }
          ],
          "parcoords": [
           {
            "line": {
             "colorbar": {
              "outlinewidth": 0,
              "ticks": ""
             }
            },
            "type": "parcoords"
           }
          ],
          "pie": [
           {
            "automargin": true,
            "type": "pie"
           }
          ],
          "scatter": [
           {
            "fillpattern": {
             "fillmode": "overlay",
             "size": 10,
             "solidity": 0.2
            },
            "type": "scatter"
           }
          ],
          "scatter3d": [
           {
            "line": {
             "colorbar": {
              "outlinewidth": 0,
              "ticks": ""
             }
            },
            "marker": {
             "colorbar": {
              "outlinewidth": 0,
              "ticks": ""
             }
            },
            "type": "scatter3d"
           }
          ],
          "scattercarpet": [
           {
            "marker": {
             "colorbar": {
              "outlinewidth": 0,
              "ticks": ""
             }
            },
            "type": "scattercarpet"
           }
          ],
          "scattergeo": [
           {
            "marker": {
             "colorbar": {
              "outlinewidth": 0,
              "ticks": ""
             }
            },
            "type": "scattergeo"
           }
          ],
          "scattergl": [
           {
            "marker": {
             "colorbar": {
              "outlinewidth": 0,
              "ticks": ""
             }
            },
            "type": "scattergl"
           }
          ],
          "scattermapbox": [
           {
            "marker": {
             "colorbar": {
              "outlinewidth": 0,
              "ticks": ""
             }
            },
            "type": "scattermapbox"
           }
          ],
          "scatterpolar": [
           {
            "marker": {
             "colorbar": {
              "outlinewidth": 0,
              "ticks": ""
             }
            },
            "type": "scatterpolar"
           }
          ],
          "scatterpolargl": [
           {
            "marker": {
             "colorbar": {
              "outlinewidth": 0,
              "ticks": ""
             }
            },
            "type": "scatterpolargl"
           }
          ],
          "scatterternary": [
           {
            "marker": {
             "colorbar": {
              "outlinewidth": 0,
              "ticks": ""
             }
            },
            "type": "scatterternary"
           }
          ],
          "surface": [
           {
            "colorbar": {
             "outlinewidth": 0,
             "ticks": ""
            },
            "colorscale": [
             [
              0,
              "#0d0887"
             ],
             [
              0.1111111111111111,
              "#46039f"
             ],
             [
              0.2222222222222222,
              "#7201a8"
             ],
             [
              0.3333333333333333,
              "#9c179e"
             ],
             [
              0.4444444444444444,
              "#bd3786"
             ],
             [
              0.5555555555555556,
              "#d8576b"
             ],
             [
              0.6666666666666666,
              "#ed7953"
             ],
             [
              0.7777777777777778,
              "#fb9f3a"
             ],
             [
              0.8888888888888888,
              "#fdca26"
             ],
             [
              1,
              "#f0f921"
             ]
            ],
            "type": "surface"
           }
          ],
          "table": [
           {
            "cells": {
             "fill": {
              "color": "#EBF0F8"
             },
             "line": {
              "color": "white"
             }
            },
            "header": {
             "fill": {
              "color": "#C8D4E3"
             },
             "line": {
              "color": "white"
             }
            },
            "type": "table"
           }
          ]
         },
         "layout": {
          "annotationdefaults": {
           "arrowcolor": "#2a3f5f",
           "arrowhead": 0,
           "arrowwidth": 1
          },
          "autotypenumbers": "strict",
          "coloraxis": {
           "colorbar": {
            "outlinewidth": 0,
            "ticks": ""
           }
          },
          "colorscale": {
           "diverging": [
            [
             0,
             "#8e0152"
            ],
            [
             0.1,
             "#c51b7d"
            ],
            [
             0.2,
             "#de77ae"
            ],
            [
             0.3,
             "#f1b6da"
            ],
            [
             0.4,
             "#fde0ef"
            ],
            [
             0.5,
             "#f7f7f7"
            ],
            [
             0.6,
             "#e6f5d0"
            ],
            [
             0.7,
             "#b8e186"
            ],
            [
             0.8,
             "#7fbc41"
            ],
            [
             0.9,
             "#4d9221"
            ],
            [
             1,
             "#276419"
            ]
           ],
           "sequential": [
            [
             0,
             "#0d0887"
            ],
            [
             0.1111111111111111,
             "#46039f"
            ],
            [
             0.2222222222222222,
             "#7201a8"
            ],
            [
             0.3333333333333333,
             "#9c179e"
            ],
            [
             0.4444444444444444,
             "#bd3786"
            ],
            [
             0.5555555555555556,
             "#d8576b"
            ],
            [
             0.6666666666666666,
             "#ed7953"
            ],
            [
             0.7777777777777778,
             "#fb9f3a"
            ],
            [
             0.8888888888888888,
             "#fdca26"
            ],
            [
             1,
             "#f0f921"
            ]
           ],
           "sequentialminus": [
            [
             0,
             "#0d0887"
            ],
            [
             0.1111111111111111,
             "#46039f"
            ],
            [
             0.2222222222222222,
             "#7201a8"
            ],
            [
             0.3333333333333333,
             "#9c179e"
            ],
            [
             0.4444444444444444,
             "#bd3786"
            ],
            [
             0.5555555555555556,
             "#d8576b"
            ],
            [
             0.6666666666666666,
             "#ed7953"
            ],
            [
             0.7777777777777778,
             "#fb9f3a"
            ],
            [
             0.8888888888888888,
             "#fdca26"
            ],
            [
             1,
             "#f0f921"
            ]
           ]
          },
          "colorway": [
           "#636efa",
           "#EF553B",
           "#00cc96",
           "#ab63fa",
           "#FFA15A",
           "#19d3f3",
           "#FF6692",
           "#B6E880",
           "#FF97FF",
           "#FECB52"
          ],
          "font": {
           "color": "#2a3f5f"
          },
          "geo": {
           "bgcolor": "white",
           "lakecolor": "white",
           "landcolor": "#E5ECF6",
           "showlakes": true,
           "showland": true,
           "subunitcolor": "white"
          },
          "hoverlabel": {
           "align": "left"
          },
          "hovermode": "closest",
          "mapbox": {
           "style": "light"
          },
          "paper_bgcolor": "white",
          "plot_bgcolor": "#E5ECF6",
          "polar": {
           "angularaxis": {
            "gridcolor": "white",
            "linecolor": "white",
            "ticks": ""
           },
           "bgcolor": "#E5ECF6",
           "radialaxis": {
            "gridcolor": "white",
            "linecolor": "white",
            "ticks": ""
           }
          },
          "scene": {
           "xaxis": {
            "backgroundcolor": "#E5ECF6",
            "gridcolor": "white",
            "gridwidth": 2,
            "linecolor": "white",
            "showbackground": true,
            "ticks": "",
            "zerolinecolor": "white"
           },
           "yaxis": {
            "backgroundcolor": "#E5ECF6",
            "gridcolor": "white",
            "gridwidth": 2,
            "linecolor": "white",
            "showbackground": true,
            "ticks": "",
            "zerolinecolor": "white"
           },
           "zaxis": {
            "backgroundcolor": "#E5ECF6",
            "gridcolor": "white",
            "gridwidth": 2,
            "linecolor": "white",
            "showbackground": true,
            "ticks": "",
            "zerolinecolor": "white"
           }
          },
          "shapedefaults": {
           "line": {
            "color": "#2a3f5f"
           }
          },
          "ternary": {
           "aaxis": {
            "gridcolor": "white",
            "linecolor": "white",
            "ticks": ""
           },
           "baxis": {
            "gridcolor": "white",
            "linecolor": "white",
            "ticks": ""
           },
           "bgcolor": "#E5ECF6",
           "caxis": {
            "gridcolor": "white",
            "linecolor": "white",
            "ticks": ""
           }
          },
          "title": {
           "x": 0.05
          },
          "xaxis": {
           "automargin": true,
           "gridcolor": "white",
           "linecolor": "white",
           "ticks": "",
           "title": {
            "standoff": 15
           },
           "zerolinecolor": "white",
           "zerolinewidth": 2
          },
          "yaxis": {
           "automargin": true,
           "gridcolor": "white",
           "linecolor": "white",
           "ticks": "",
           "title": {
            "standoff": 15
           },
           "zerolinecolor": "white",
           "zerolinewidth": 2
          }
         }
        },
        "title": {
         "text": "Number of HBCUs by the Highest Degree Offered"
        },
        "xaxis": {
         "anchor": "y",
         "domain": [
          0,
          1
         ],
         "title": {
          "text": "Highest Degree"
         }
        },
        "yaxis": {
         "anchor": "x",
         "domain": [
          0,
          1
         ],
         "title": {
          "text": "count"
         }
        }
       }
      }
     },
     "metadata": {},
     "output_type": "display_data"
    }
   ],
   "source": [
    "#bar plot for number of schools by highest degree offered\n",
    "\n",
    "fig = px.histogram(df, x=df['Highest Degree'],\n",
    "                   title='Number of HBCUs by the Highest Degree Offered',\n",
    "                   color_discrete_sequence=['navy'])\n",
    "fig.show()"
   ]
  },
  {
   "cell_type": "code",
   "execution_count": 11,
   "metadata": {},
   "outputs": [
    {
     "data": {
      "text/plain": [
       "array(['4-year, Public', '4-year, Private not-for-profit',\n",
       "       '2-year, Public', '2-year, Private not-for-profit',\n",
       "       \"4-year, primarily associate's, Private not-for-profit\"],\n",
       "      dtype=object)"
      ]
     },
     "execution_count": 11,
     "metadata": {},
     "output_type": "execute_result"
    },
    {
     "data": {
      "text/html": [
       "<div>\n",
       "<style scoped>\n",
       "    .dataframe tbody tr th:only-of-type {\n",
       "        vertical-align: middle;\n",
       "    }\n",
       "\n",
       "    .dataframe tbody tr th {\n",
       "        vertical-align: top;\n",
       "    }\n",
       "\n",
       "    .dataframe thead th {\n",
       "        text-align: right;\n",
       "    }\n",
       "</style>\n",
       "<table border=\"1\" class=\"dataframe\">\n",
       "  <thead>\n",
       "    <tr style=\"text-align: right;\">\n",
       "      <th>PublicPrivate</th>\n",
       "      <th>Private HBCU</th>\n",
       "      <th>Public HBCU</th>\n",
       "      <th>All</th>\n",
       "    </tr>\n",
       "    <tr>\n",
       "      <th>Type</th>\n",
       "      <th></th>\n",
       "      <th></th>\n",
       "      <th></th>\n",
       "    </tr>\n",
       "  </thead>\n",
       "  <tbody>\n",
       "    <tr>\n",
       "      <th>2-year, Private not-for-profit</th>\n",
       "      <td>1</td>\n",
       "      <td>0</td>\n",
       "      <td>1</td>\n",
       "    </tr>\n",
       "    <tr>\n",
       "      <th>2-year, Public</th>\n",
       "      <td>0</td>\n",
       "      <td>10</td>\n",
       "      <td>10</td>\n",
       "    </tr>\n",
       "    <tr>\n",
       "      <th>4-year, Private not-for-profit</th>\n",
       "      <td>48</td>\n",
       "      <td>0</td>\n",
       "      <td>48</td>\n",
       "    </tr>\n",
       "    <tr>\n",
       "      <th>4-year, Public</th>\n",
       "      <td>0</td>\n",
       "      <td>42</td>\n",
       "      <td>42</td>\n",
       "    </tr>\n",
       "    <tr>\n",
       "      <th>4-year, primarily associate's, Private not-for-profit</th>\n",
       "      <td>1</td>\n",
       "      <td>0</td>\n",
       "      <td>1</td>\n",
       "    </tr>\n",
       "    <tr>\n",
       "      <th>All</th>\n",
       "      <td>50</td>\n",
       "      <td>52</td>\n",
       "      <td>102</td>\n",
       "    </tr>\n",
       "  </tbody>\n",
       "</table>\n",
       "</div>"
      ],
      "text/plain": [
       "PublicPrivate                                       Private HBCU  Public HBCU  \\\n",
       "Type                                                                            \n",
       "2-year, Private not-for-profit                                 1            0   \n",
       "2-year, Public                                                 0           10   \n",
       "4-year, Private not-for-profit                                48            0   \n",
       "4-year, Public                                                 0           42   \n",
       "4-year, primarily associate's, Private not-for-...             1            0   \n",
       "All                                                           50           52   \n",
       "\n",
       "PublicPrivate                                       All  \n",
       "Type                                                     \n",
       "2-year, Private not-for-profit                        1  \n",
       "2-year, Public                                       10  \n",
       "4-year, Private not-for-profit                       48  \n",
       "4-year, Public                                       42  \n",
       "4-year, primarily associate's, Private not-for-...    1  \n",
       "All                                                 102  "
      ]
     },
     "execution_count": 11,
     "metadata": {},
     "output_type": "execute_result"
    }
   ],
   "source": [
    "#chart for student population\n",
    "#create private/public variable\n",
    "#get unique values for Type column\n",
    "df['Type'].unique()\n",
    "#create mapping from Type variable to Public/Private variable\n",
    "type_mapping = {'4-year, Public':'Public HBCU',\n",
    "                '2-year, Public': 'Public HBCU', \n",
    "                '4-year, Private not-for-profit':'Private HBCU',\n",
    "                '2-year, Private not-for-profit':'Private HBCU',\n",
    "                \"4-year, primarily associate's, Private not-for-profit\": 'Private HBCU'}\n",
    "#recode Type column into Public/Private column\n",
    "df = df.assign(PublicPrivate=df.Type.map(type_mapping))\n",
    "#crosstab to see if recode went correctly\n",
    "pd.crosstab(index= df['Type'], columns=df['PublicPrivate'], margins=True)"
   ]
  },
  {
   "cell_type": "code",
   "execution_count": 12,
   "metadata": {},
   "outputs": [
    {
     "data": {
      "application/vnd.plotly.v1+json": {
       "config": {
        "plotlyServerURL": "https://plot.ly"
       },
       "data": [
        {
         "alignmentgroup": "True",
         "bingroup": "x",
         "hovertemplate": "PublicPrivate=Public HBCU<br>Highest Degree=%{x}<br>count=%{y}<extra></extra>",
         "legendgroup": "Public HBCU",
         "marker": {
          "color": "rgb(102, 197, 204)",
          "pattern": {
           "shape": ""
          }
         },
         "name": "Public HBCU",
         "offsetgroup": "Public HBCU",
         "orientation": "v",
         "showlegend": true,
         "type": "histogram",
         "x": [
          "Doctoral degree",
          "Doctoral degree",
          "Master's degree",
          "Doctoral degree",
          "Associate's degree",
          "Master's degree",
          "Doctoral degree",
          "Master's degree",
          "Bachelor's degree",
          "Associate's degree",
          "Doctoral degree",
          "Doctoral degree",
          "Associate's degree",
          "Master's degree",
          "Doctoral degree",
          "Doctoral degree",
          "Master's degree",
          "Associate's degree",
          "Doctoral degree",
          "Associate's degree",
          "Bachelor's degree",
          "Associate's degree",
          "Doctoral degree",
          "Doctoral degree",
          "Doctoral degree",
          "Associate's degree",
          "Master's degree",
          "Master's degree",
          "Master's degree",
          "Doctoral degree",
          "Doctoral degree",
          "Doctoral degree",
          "Doctoral degree",
          "Doctoral degree",
          "Master's degree",
          "Associate's degree",
          "Doctoral degree",
          "Doctoral degree",
          "Master's degree",
          "Associate's degree",
          "Doctoral degree",
          "Associate's degree",
          "Doctoral degree",
          "Doctoral degree",
          "Doctoral degree",
          "Doctoral degree",
          "Doctoral degree",
          "Doctoral degree",
          "Doctoral degree",
          "Doctoral degree",
          "Master's degree",
          "Doctoral degree"
         ],
         "xaxis": "x",
         "yaxis": "y"
        },
        {
         "alignmentgroup": "True",
         "bingroup": "x",
         "hovertemplate": "PublicPrivate=Private HBCU<br>Highest Degree=%{x}<br>count=%{y}<extra></extra>",
         "legendgroup": "Private HBCU",
         "marker": {
          "color": "rgb(246, 207, 113)",
          "pattern": {
           "shape": ""
          }
         },
         "name": "Private HBCU",
         "offsetgroup": "Private HBCU",
         "orientation": "v",
         "showlegend": true,
         "type": "histogram",
         "x": [
          "Doctoral degree",
          "Bachelor's degree",
          "Bachelor's degree",
          "Master's degree",
          "Bachelor's degree",
          "Master's degree",
          "Master's degree",
          "Doctoral degree",
          "Bachelor's degree",
          "Master's degree",
          "Master's degree",
          "Master's degree",
          "Master's degree",
          "Doctoral degree",
          "Doctoral degree",
          "Master's degree",
          "Doctoral degree",
          "Master's degree",
          "Master's degree",
          "Bachelor's degree",
          "Bachelor's degree",
          "Master's degree",
          "Doctoral degree",
          "Bachelor's degree",
          "Bachelor's degree",
          "Doctoral degree",
          "Bachelor's degree",
          "Master's degree",
          "Bachelor's degree",
          "Master's degree",
          "Master's degree",
          "Bachelor's degree",
          "Master's degree",
          "Master's degree",
          "Master's degree",
          "Associate's degree",
          "Master's degree",
          "Bachelor's degree",
          "Bachelor's degree",
          "Bachelor's degree",
          "Master's degree",
          "Bachelor's degree",
          "Master's degree",
          "Doctoral degree",
          "Doctoral degree",
          "Doctoral degree",
          "Master's degree",
          "Master's degree",
          "Bachelor's degree",
          "Doctoral degree"
         ],
         "xaxis": "x",
         "yaxis": "y"
        }
       ],
       "layout": {
        "barmode": "relative",
        "legend": {
         "title": {
          "text": "PublicPrivate"
         },
         "tracegroupgap": 0
        },
        "template": {
         "data": {
          "bar": [
           {
            "error_x": {
             "color": "#2a3f5f"
            },
            "error_y": {
             "color": "#2a3f5f"
            },
            "marker": {
             "line": {
              "color": "#E5ECF6",
              "width": 0.5
             },
             "pattern": {
              "fillmode": "overlay",
              "size": 10,
              "solidity": 0.2
             }
            },
            "type": "bar"
           }
          ],
          "barpolar": [
           {
            "marker": {
             "line": {
              "color": "#E5ECF6",
              "width": 0.5
             },
             "pattern": {
              "fillmode": "overlay",
              "size": 10,
              "solidity": 0.2
             }
            },
            "type": "barpolar"
           }
          ],
          "carpet": [
           {
            "aaxis": {
             "endlinecolor": "#2a3f5f",
             "gridcolor": "white",
             "linecolor": "white",
             "minorgridcolor": "white",
             "startlinecolor": "#2a3f5f"
            },
            "baxis": {
             "endlinecolor": "#2a3f5f",
             "gridcolor": "white",
             "linecolor": "white",
             "minorgridcolor": "white",
             "startlinecolor": "#2a3f5f"
            },
            "type": "carpet"
           }
          ],
          "choropleth": [
           {
            "colorbar": {
             "outlinewidth": 0,
             "ticks": ""
            },
            "type": "choropleth"
           }
          ],
          "contour": [
           {
            "colorbar": {
             "outlinewidth": 0,
             "ticks": ""
            },
            "colorscale": [
             [
              0,
              "#0d0887"
             ],
             [
              0.1111111111111111,
              "#46039f"
             ],
             [
              0.2222222222222222,
              "#7201a8"
             ],
             [
              0.3333333333333333,
              "#9c179e"
             ],
             [
              0.4444444444444444,
              "#bd3786"
             ],
             [
              0.5555555555555556,
              "#d8576b"
             ],
             [
              0.6666666666666666,
              "#ed7953"
             ],
             [
              0.7777777777777778,
              "#fb9f3a"
             ],
             [
              0.8888888888888888,
              "#fdca26"
             ],
             [
              1,
              "#f0f921"
             ]
            ],
            "type": "contour"
           }
          ],
          "contourcarpet": [
           {
            "colorbar": {
             "outlinewidth": 0,
             "ticks": ""
            },
            "type": "contourcarpet"
           }
          ],
          "heatmap": [
           {
            "colorbar": {
             "outlinewidth": 0,
             "ticks": ""
            },
            "colorscale": [
             [
              0,
              "#0d0887"
             ],
             [
              0.1111111111111111,
              "#46039f"
             ],
             [
              0.2222222222222222,
              "#7201a8"
             ],
             [
              0.3333333333333333,
              "#9c179e"
             ],
             [
              0.4444444444444444,
              "#bd3786"
             ],
             [
              0.5555555555555556,
              "#d8576b"
             ],
             [
              0.6666666666666666,
              "#ed7953"
             ],
             [
              0.7777777777777778,
              "#fb9f3a"
             ],
             [
              0.8888888888888888,
              "#fdca26"
             ],
             [
              1,
              "#f0f921"
             ]
            ],
            "type": "heatmap"
           }
          ],
          "heatmapgl": [
           {
            "colorbar": {
             "outlinewidth": 0,
             "ticks": ""
            },
            "colorscale": [
             [
              0,
              "#0d0887"
             ],
             [
              0.1111111111111111,
              "#46039f"
             ],
             [
              0.2222222222222222,
              "#7201a8"
             ],
             [
              0.3333333333333333,
              "#9c179e"
             ],
             [
              0.4444444444444444,
              "#bd3786"
             ],
             [
              0.5555555555555556,
              "#d8576b"
             ],
             [
              0.6666666666666666,
              "#ed7953"
             ],
             [
              0.7777777777777778,
              "#fb9f3a"
             ],
             [
              0.8888888888888888,
              "#fdca26"
             ],
             [
              1,
              "#f0f921"
             ]
            ],
            "type": "heatmapgl"
           }
          ],
          "histogram": [
           {
            "marker": {
             "pattern": {
              "fillmode": "overlay",
              "size": 10,
              "solidity": 0.2
             }
            },
            "type": "histogram"
           }
          ],
          "histogram2d": [
           {
            "colorbar": {
             "outlinewidth": 0,
             "ticks": ""
            },
            "colorscale": [
             [
              0,
              "#0d0887"
             ],
             [
              0.1111111111111111,
              "#46039f"
             ],
             [
              0.2222222222222222,
              "#7201a8"
             ],
             [
              0.3333333333333333,
              "#9c179e"
             ],
             [
              0.4444444444444444,
              "#bd3786"
             ],
             [
              0.5555555555555556,
              "#d8576b"
             ],
             [
              0.6666666666666666,
              "#ed7953"
             ],
             [
              0.7777777777777778,
              "#fb9f3a"
             ],
             [
              0.8888888888888888,
              "#fdca26"
             ],
             [
              1,
              "#f0f921"
             ]
            ],
            "type": "histogram2d"
           }
          ],
          "histogram2dcontour": [
           {
            "colorbar": {
             "outlinewidth": 0,
             "ticks": ""
            },
            "colorscale": [
             [
              0,
              "#0d0887"
             ],
             [
              0.1111111111111111,
              "#46039f"
             ],
             [
              0.2222222222222222,
              "#7201a8"
             ],
             [
              0.3333333333333333,
              "#9c179e"
             ],
             [
              0.4444444444444444,
              "#bd3786"
             ],
             [
              0.5555555555555556,
              "#d8576b"
             ],
             [
              0.6666666666666666,
              "#ed7953"
             ],
             [
              0.7777777777777778,
              "#fb9f3a"
             ],
             [
              0.8888888888888888,
              "#fdca26"
             ],
             [
              1,
              "#f0f921"
             ]
            ],
            "type": "histogram2dcontour"
           }
          ],
          "mesh3d": [
           {
            "colorbar": {
             "outlinewidth": 0,
             "ticks": ""
            },
            "type": "mesh3d"
           }
          ],
          "parcoords": [
           {
            "line": {
             "colorbar": {
              "outlinewidth": 0,
              "ticks": ""
             }
            },
            "type": "parcoords"
           }
          ],
          "pie": [
           {
            "automargin": true,
            "type": "pie"
           }
          ],
          "scatter": [
           {
            "fillpattern": {
             "fillmode": "overlay",
             "size": 10,
             "solidity": 0.2
            },
            "type": "scatter"
           }
          ],
          "scatter3d": [
           {
            "line": {
             "colorbar": {
              "outlinewidth": 0,
              "ticks": ""
             }
            },
            "marker": {
             "colorbar": {
              "outlinewidth": 0,
              "ticks": ""
             }
            },
            "type": "scatter3d"
           }
          ],
          "scattercarpet": [
           {
            "marker": {
             "colorbar": {
              "outlinewidth": 0,
              "ticks": ""
             }
            },
            "type": "scattercarpet"
           }
          ],
          "scattergeo": [
           {
            "marker": {
             "colorbar": {
              "outlinewidth": 0,
              "ticks": ""
             }
            },
            "type": "scattergeo"
           }
          ],
          "scattergl": [
           {
            "marker": {
             "colorbar": {
              "outlinewidth": 0,
              "ticks": ""
             }
            },
            "type": "scattergl"
           }
          ],
          "scattermapbox": [
           {
            "marker": {
             "colorbar": {
              "outlinewidth": 0,
              "ticks": ""
             }
            },
            "type": "scattermapbox"
           }
          ],
          "scatterpolar": [
           {
            "marker": {
             "colorbar": {
              "outlinewidth": 0,
              "ticks": ""
             }
            },
            "type": "scatterpolar"
           }
          ],
          "scatterpolargl": [
           {
            "marker": {
             "colorbar": {
              "outlinewidth": 0,
              "ticks": ""
             }
            },
            "type": "scatterpolargl"
           }
          ],
          "scatterternary": [
           {
            "marker": {
             "colorbar": {
              "outlinewidth": 0,
              "ticks": ""
             }
            },
            "type": "scatterternary"
           }
          ],
          "surface": [
           {
            "colorbar": {
             "outlinewidth": 0,
             "ticks": ""
            },
            "colorscale": [
             [
              0,
              "#0d0887"
             ],
             [
              0.1111111111111111,
              "#46039f"
             ],
             [
              0.2222222222222222,
              "#7201a8"
             ],
             [
              0.3333333333333333,
              "#9c179e"
             ],
             [
              0.4444444444444444,
              "#bd3786"
             ],
             [
              0.5555555555555556,
              "#d8576b"
             ],
             [
              0.6666666666666666,
              "#ed7953"
             ],
             [
              0.7777777777777778,
              "#fb9f3a"
             ],
             [
              0.8888888888888888,
              "#fdca26"
             ],
             [
              1,
              "#f0f921"
             ]
            ],
            "type": "surface"
           }
          ],
          "table": [
           {
            "cells": {
             "fill": {
              "color": "#EBF0F8"
             },
             "line": {
              "color": "white"
             }
            },
            "header": {
             "fill": {
              "color": "#C8D4E3"
             },
             "line": {
              "color": "white"
             }
            },
            "type": "table"
           }
          ]
         },
         "layout": {
          "annotationdefaults": {
           "arrowcolor": "#2a3f5f",
           "arrowhead": 0,
           "arrowwidth": 1
          },
          "autotypenumbers": "strict",
          "coloraxis": {
           "colorbar": {
            "outlinewidth": 0,
            "ticks": ""
           }
          },
          "colorscale": {
           "diverging": [
            [
             0,
             "#8e0152"
            ],
            [
             0.1,
             "#c51b7d"
            ],
            [
             0.2,
             "#de77ae"
            ],
            [
             0.3,
             "#f1b6da"
            ],
            [
             0.4,
             "#fde0ef"
            ],
            [
             0.5,
             "#f7f7f7"
            ],
            [
             0.6,
             "#e6f5d0"
            ],
            [
             0.7,
             "#b8e186"
            ],
            [
             0.8,
             "#7fbc41"
            ],
            [
             0.9,
             "#4d9221"
            ],
            [
             1,
             "#276419"
            ]
           ],
           "sequential": [
            [
             0,
             "#0d0887"
            ],
            [
             0.1111111111111111,
             "#46039f"
            ],
            [
             0.2222222222222222,
             "#7201a8"
            ],
            [
             0.3333333333333333,
             "#9c179e"
            ],
            [
             0.4444444444444444,
             "#bd3786"
            ],
            [
             0.5555555555555556,
             "#d8576b"
            ],
            [
             0.6666666666666666,
             "#ed7953"
            ],
            [
             0.7777777777777778,
             "#fb9f3a"
            ],
            [
             0.8888888888888888,
             "#fdca26"
            ],
            [
             1,
             "#f0f921"
            ]
           ],
           "sequentialminus": [
            [
             0,
             "#0d0887"
            ],
            [
             0.1111111111111111,
             "#46039f"
            ],
            [
             0.2222222222222222,
             "#7201a8"
            ],
            [
             0.3333333333333333,
             "#9c179e"
            ],
            [
             0.4444444444444444,
             "#bd3786"
            ],
            [
             0.5555555555555556,
             "#d8576b"
            ],
            [
             0.6666666666666666,
             "#ed7953"
            ],
            [
             0.7777777777777778,
             "#fb9f3a"
            ],
            [
             0.8888888888888888,
             "#fdca26"
            ],
            [
             1,
             "#f0f921"
            ]
           ]
          },
          "colorway": [
           "#636efa",
           "#EF553B",
           "#00cc96",
           "#ab63fa",
           "#FFA15A",
           "#19d3f3",
           "#FF6692",
           "#B6E880",
           "#FF97FF",
           "#FECB52"
          ],
          "font": {
           "color": "#2a3f5f"
          },
          "geo": {
           "bgcolor": "white",
           "lakecolor": "white",
           "landcolor": "#E5ECF6",
           "showlakes": true,
           "showland": true,
           "subunitcolor": "white"
          },
          "hoverlabel": {
           "align": "left"
          },
          "hovermode": "closest",
          "mapbox": {
           "style": "light"
          },
          "paper_bgcolor": "white",
          "plot_bgcolor": "#E5ECF6",
          "polar": {
           "angularaxis": {
            "gridcolor": "white",
            "linecolor": "white",
            "ticks": ""
           },
           "bgcolor": "#E5ECF6",
           "radialaxis": {
            "gridcolor": "white",
            "linecolor": "white",
            "ticks": ""
           }
          },
          "scene": {
           "xaxis": {
            "backgroundcolor": "#E5ECF6",
            "gridcolor": "white",
            "gridwidth": 2,
            "linecolor": "white",
            "showbackground": true,
            "ticks": "",
            "zerolinecolor": "white"
           },
           "yaxis": {
            "backgroundcolor": "#E5ECF6",
            "gridcolor": "white",
            "gridwidth": 2,
            "linecolor": "white",
            "showbackground": true,
            "ticks": "",
            "zerolinecolor": "white"
           },
           "zaxis": {
            "backgroundcolor": "#E5ECF6",
            "gridcolor": "white",
            "gridwidth": 2,
            "linecolor": "white",
            "showbackground": true,
            "ticks": "",
            "zerolinecolor": "white"
           }
          },
          "shapedefaults": {
           "line": {
            "color": "#2a3f5f"
           }
          },
          "ternary": {
           "aaxis": {
            "gridcolor": "white",
            "linecolor": "white",
            "ticks": ""
           },
           "baxis": {
            "gridcolor": "white",
            "linecolor": "white",
            "ticks": ""
           },
           "bgcolor": "#E5ECF6",
           "caxis": {
            "gridcolor": "white",
            "linecolor": "white",
            "ticks": ""
           }
          },
          "title": {
           "x": 0.05
          },
          "xaxis": {
           "automargin": true,
           "gridcolor": "white",
           "linecolor": "white",
           "ticks": "",
           "title": {
            "standoff": 15
           },
           "zerolinecolor": "white",
           "zerolinewidth": 2
          },
          "yaxis": {
           "automargin": true,
           "gridcolor": "white",
           "linecolor": "white",
           "ticks": "",
           "title": {
            "standoff": 15
           },
           "zerolinecolor": "white",
           "zerolinewidth": 2
          }
         }
        },
        "title": {
         "text": "Number of HBCUs by the Highest Degree Offered"
        },
        "xaxis": {
         "anchor": "y",
         "domain": [
          0,
          1
         ],
         "title": {
          "text": "Highest Degree"
         }
        },
        "yaxis": {
         "anchor": "x",
         "domain": [
          0,
          1
         ],
         "title": {
          "text": "count"
         }
        }
       }
      }
     },
     "metadata": {},
     "output_type": "display_data"
    }
   ],
   "source": [
    "#get Highest degree numbers for public and private HBCUs\n",
    "\n",
    "fig = px.histogram(df, df['Highest Degree'],\n",
    "                   title='Number of HBCUs by the Highest Degree Offered',\n",
    "                   color=df['PublicPrivate'],\n",
    "                   color_discrete_sequence=px.colors.qualitative.Pastel\n",
    "                   )\n",
    "fig.show()"
   ]
  },
  {
   "cell_type": "code",
   "execution_count": 13,
   "metadata": {},
   "outputs": [
    {
     "data": {
      "text/plain": [
       "77                      Southern University Law Center\n",
       "92    University of the Virgin Islands-Albert A. Sheen\n",
       "Name: Name, dtype: object"
      ]
     },
     "execution_count": 13,
     "metadata": {},
     "output_type": "execute_result"
    },
    {
     "data": {
      "text/plain": [
       "Series([], Name: Name, dtype: object)"
      ]
     },
     "execution_count": 13,
     "metadata": {},
     "output_type": "execute_result"
    }
   ],
   "source": [
    "#student population\n",
    "#look for schools with missing data on student population\n",
    "df['Name'][df['Student population'].isna()]\n",
    "#fill in  missing information\n",
    "df.loc[df['Name']=='Southern University Law Center', 'Student population']=843\n",
    "df.loc[df['Name']=='University of the Virgin Islands-Albert A. Sheen', 'Student population']=2138\n",
    "df['Name'][df['Student population'].isna()]"
   ]
  },
  {
   "cell_type": "code",
   "execution_count": 14,
   "metadata": {},
   "outputs": [
    {
     "data": {
      "application/vnd.plotly.v1+json": {
       "config": {
        "plotlyServerURL": "https://plot.ly"
       },
       "data": [
        {
         "hovertemplate": "<b>%{hovertext}</b><br><br>PublicPrivate=Public HBCU<br>Student population=%{marker.size}<br>index=%{y}<extra></extra>",
         "hovertext": [
          "Alabama A & M University",
          "Alabama State University",
          "Albany State University",
          "Alcorn State University",
          "Bishop State Community College",
          "Bluefield State University",
          "Bowie State University",
          "Central State University",
          "Cheyney University of Pennsylvania",
          "Coahoma Community College",
          "Coppin State University",
          "Delaware State University",
          "Denmark Technical College",
          "Elizabeth City State University",
          "Fayetteville State University",
          "Florida Agricultural and Mechanical University",
          "Fort Valley State University",
          "Gadsden State Community College",
          "Grambling State University",
          "H Councill Trenholm State Community College",
          "Harris-Stowe State University",
          "J. F. Drake State Community and Technical College",
          "Jackson State University",
          "Kentucky State University",
          "Langston University",
          "Lawson State Community College",
          "Lincoln University",
          "Lincoln University",
          "Mississippi Valley State University",
          "Morgan State University",
          "Norfolk State University",
          "North Carolina A & T State University",
          "North Carolina Central University",
          "Prairie View A & M University",
          "Savannah State University",
          "Shelton State Community College",
          "South Carolina State University",
          "Southern University and A & M College",
          "Southern University at New Orleans",
          "Southern University at Shreveport",
          "Southern University Law Center",
          "St Philip's College",
          "Tennessee State University",
          "Texas Southern University",
          "University of Arkansas at Pine Bluff",
          "University of Maryland Eastern Shore",
          "University of the District of Columbia",
          "University of the Virgin Islands",
          "University of the Virgin Islands-Albert A. Sheen",
          "Virginia State University",
          "West Virginia State University",
          "Winston-Salem State University"
         ],
         "legendgroup": "Public HBCU",
         "marker": {
          "color": "rgb(127, 60, 141)",
          "size": [
           6007,
           3828,
           6334,
           2933,
           2968,
           1306,
           6275,
           5434,
           697,
           1783,
           2006,
           5826,
           725,
           2149,
           6787,
           9215,
           2605,
           4352,
           5058,
           1984,
           1084,
           976,
           6906,
           1726,
           1903,
           2919,
           1833,
           1824,
           1879,
           9101,
           5783,
           13487,
           7553,
           9056,
           2945,
           4166,
           2649,
           8226,
           1950,
           3154,
           843,
           12653,
           9218,
           8632,
           2387,
           2518,
           3577,
           1636,
           2138,
           4648,
           3785,
           5004
          ],
          "sizemode": "area",
          "sizeref": 33.7175,
          "symbol": "circle"
         },
         "mode": "markers",
         "name": "Public HBCU",
         "orientation": "h",
         "showlegend": true,
         "type": "scatter",
         "x": [
          6007,
          3828,
          6334,
          2933,
          2968,
          1306,
          6275,
          5434,
          697,
          1783,
          2006,
          5826,
          725,
          2149,
          6787,
          9215,
          2605,
          4352,
          5058,
          1984,
          1084,
          976,
          6906,
          1726,
          1903,
          2919,
          1833,
          1824,
          1879,
          9101,
          5783,
          13487,
          7553,
          9056,
          2945,
          4166,
          2649,
          8226,
          1950,
          3154,
          843,
          12653,
          9218,
          8632,
          2387,
          2518,
          3577,
          1636,
          2138,
          4648,
          3785,
          5004
         ],
         "xaxis": "x",
         "y": [
          0,
          1,
          2,
          3,
          10,
          11,
          12,
          13,
          14,
          18,
          19,
          20,
          21,
          24,
          25,
          27,
          29,
          30,
          31,
          32,
          34,
          38,
          39,
          42,
          44,
          45,
          47,
          48,
          52,
          55,
          57,
          58,
          59,
          64,
          67,
          70,
          73,
          74,
          75,
          76,
          77,
          80,
          83,
          85,
          88,
          89,
          90,
          91,
          92,
          93,
          97,
          100
         ],
         "yaxis": "y"
        },
        {
         "hovertemplate": "<b>%{hovertext}</b><br><br>PublicPrivate=Private HBCU<br>Student population=%{marker.size}<br>index=%{y}<extra></extra>",
         "hovertext": [
          "Allen University",
          "American Baptist College",
          "Arkansas Baptist College",
          "Benedict College",
          "Bennett College",
          "Bethune-Cookman University",
          "Claflin University",
          "Clark Atlanta University",
          "Clinton College",
          "Dillard University",
          "Edward Waters University",
          "Fisk University",
          "Florida Memorial University",
          "Hampton University",
          "Howard University",
          "Huston-Tillotson University",
          "Interdenominational Theological Center",
          "Jarvis Christian University",
          "Johnson C Smith University",
          "Lane College",
          "Le Moyne-Owen College",
          "Livingstone College",
          "Meharry Medical College",
          "Miles College",
          "Morehouse College",
          "Morehouse School of Medicine",
          "Morris College",
          "Oakwood University",
          "Paine College",
          "Paul Quinn College",
          "Philander Smith University",
          "Rust College",
          "Saint Augustine's University",
          "Selma University",
          "Shaw University",
          "Shorter College",
          "Simmons College of Kentucky",
          "Southwestern Christian College",
          "Spelman College",
          "Stillman College",
          "Talladega College",
          "Texas College",
          "Tougaloo College",
          "Tuskegee University",
          "Virginia Union University",
          "Virginia University of Lynchburg",
          "Voorhees University",
          "Wilberforce University",
          "Wiley University",
          "Xavier University of Louisiana"
         ],
         "legendgroup": "Private HBCU",
         "marker": {
          "color": "rgb(17, 165, 121)",
          "size": [
           657,
           53,
           497,
           1840,
           168,
           2727,
           1830,
           4000,
           197,
           1224,
           1181,
           1055,
           1137,
           3286,
           12886,
           1025,
           193,
           729,
           1093,
           1010,
           609,
           839,
           962,
           1258,
           2567,
           891,
           384,
           1470,
           310,
           938,
           769,
           755,
           1108,
           50,
           1067,
           321,
           237,
           88,
           3102,
           744,
           903,
           642,
           677,
           2570,
           1860,
           837,
           507,
           656,
           698,
           3419
          ],
          "sizemode": "area",
          "sizeref": 33.7175,
          "symbol": "circle"
         },
         "mode": "markers",
         "name": "Private HBCU",
         "orientation": "h",
         "showlegend": true,
         "type": "scatter",
         "x": [
          657,
          53,
          497,
          1840,
          168,
          2727,
          1830,
          4000,
          197,
          1224,
          1181,
          1055,
          1137,
          3286,
          12886,
          1025,
          193,
          729,
          1093,
          1010,
          609,
          839,
          962,
          1258,
          2567,
          891,
          384,
          1470,
          310,
          938,
          769,
          755,
          1108,
          50,
          1067,
          321,
          237,
          88,
          3102,
          744,
          903,
          642,
          677,
          2570,
          1860,
          837,
          507,
          656,
          698,
          3419
         ],
         "xaxis": "x",
         "y": [
          4,
          5,
          6,
          7,
          8,
          9,
          15,
          16,
          17,
          22,
          23,
          26,
          28,
          33,
          35,
          36,
          37,
          40,
          41,
          43,
          46,
          49,
          50,
          51,
          53,
          54,
          56,
          60,
          61,
          62,
          63,
          65,
          66,
          68,
          69,
          71,
          72,
          78,
          79,
          81,
          82,
          84,
          86,
          87,
          94,
          95,
          96,
          98,
          99,
          101
         ],
         "yaxis": "y"
        }
       ],
       "layout": {
        "legend": {
         "itemsizing": "constant",
         "title": {
          "text": "PublicPrivate"
         },
         "tracegroupgap": 0
        },
        "template": {
         "data": {
          "bar": [
           {
            "error_x": {
             "color": "#2a3f5f"
            },
            "error_y": {
             "color": "#2a3f5f"
            },
            "marker": {
             "line": {
              "color": "#E5ECF6",
              "width": 0.5
             },
             "pattern": {
              "fillmode": "overlay",
              "size": 10,
              "solidity": 0.2
             }
            },
            "type": "bar"
           }
          ],
          "barpolar": [
           {
            "marker": {
             "line": {
              "color": "#E5ECF6",
              "width": 0.5
             },
             "pattern": {
              "fillmode": "overlay",
              "size": 10,
              "solidity": 0.2
             }
            },
            "type": "barpolar"
           }
          ],
          "carpet": [
           {
            "aaxis": {
             "endlinecolor": "#2a3f5f",
             "gridcolor": "white",
             "linecolor": "white",
             "minorgridcolor": "white",
             "startlinecolor": "#2a3f5f"
            },
            "baxis": {
             "endlinecolor": "#2a3f5f",
             "gridcolor": "white",
             "linecolor": "white",
             "minorgridcolor": "white",
             "startlinecolor": "#2a3f5f"
            },
            "type": "carpet"
           }
          ],
          "choropleth": [
           {
            "colorbar": {
             "outlinewidth": 0,
             "ticks": ""
            },
            "type": "choropleth"
           }
          ],
          "contour": [
           {
            "colorbar": {
             "outlinewidth": 0,
             "ticks": ""
            },
            "colorscale": [
             [
              0,
              "#0d0887"
             ],
             [
              0.1111111111111111,
              "#46039f"
             ],
             [
              0.2222222222222222,
              "#7201a8"
             ],
             [
              0.3333333333333333,
              "#9c179e"
             ],
             [
              0.4444444444444444,
              "#bd3786"
             ],
             [
              0.5555555555555556,
              "#d8576b"
             ],
             [
              0.6666666666666666,
              "#ed7953"
             ],
             [
              0.7777777777777778,
              "#fb9f3a"
             ],
             [
              0.8888888888888888,
              "#fdca26"
             ],
             [
              1,
              "#f0f921"
             ]
            ],
            "type": "contour"
           }
          ],
          "contourcarpet": [
           {
            "colorbar": {
             "outlinewidth": 0,
             "ticks": ""
            },
            "type": "contourcarpet"
           }
          ],
          "heatmap": [
           {
            "colorbar": {
             "outlinewidth": 0,
             "ticks": ""
            },
            "colorscale": [
             [
              0,
              "#0d0887"
             ],
             [
              0.1111111111111111,
              "#46039f"
             ],
             [
              0.2222222222222222,
              "#7201a8"
             ],
             [
              0.3333333333333333,
              "#9c179e"
             ],
             [
              0.4444444444444444,
              "#bd3786"
             ],
             [
              0.5555555555555556,
              "#d8576b"
             ],
             [
              0.6666666666666666,
              "#ed7953"
             ],
             [
              0.7777777777777778,
              "#fb9f3a"
             ],
             [
              0.8888888888888888,
              "#fdca26"
             ],
             [
              1,
              "#f0f921"
             ]
            ],
            "type": "heatmap"
           }
          ],
          "heatmapgl": [
           {
            "colorbar": {
             "outlinewidth": 0,
             "ticks": ""
            },
            "colorscale": [
             [
              0,
              "#0d0887"
             ],
             [
              0.1111111111111111,
              "#46039f"
             ],
             [
              0.2222222222222222,
              "#7201a8"
             ],
             [
              0.3333333333333333,
              "#9c179e"
             ],
             [
              0.4444444444444444,
              "#bd3786"
             ],
             [
              0.5555555555555556,
              "#d8576b"
             ],
             [
              0.6666666666666666,
              "#ed7953"
             ],
             [
              0.7777777777777778,
              "#fb9f3a"
             ],
             [
              0.8888888888888888,
              "#fdca26"
             ],
             [
              1,
              "#f0f921"
             ]
            ],
            "type": "heatmapgl"
           }
          ],
          "histogram": [
           {
            "marker": {
             "pattern": {
              "fillmode": "overlay",
              "size": 10,
              "solidity": 0.2
             }
            },
            "type": "histogram"
           }
          ],
          "histogram2d": [
           {
            "colorbar": {
             "outlinewidth": 0,
             "ticks": ""
            },
            "colorscale": [
             [
              0,
              "#0d0887"
             ],
             [
              0.1111111111111111,
              "#46039f"
             ],
             [
              0.2222222222222222,
              "#7201a8"
             ],
             [
              0.3333333333333333,
              "#9c179e"
             ],
             [
              0.4444444444444444,
              "#bd3786"
             ],
             [
              0.5555555555555556,
              "#d8576b"
             ],
             [
              0.6666666666666666,
              "#ed7953"
             ],
             [
              0.7777777777777778,
              "#fb9f3a"
             ],
             [
              0.8888888888888888,
              "#fdca26"
             ],
             [
              1,
              "#f0f921"
             ]
            ],
            "type": "histogram2d"
           }
          ],
          "histogram2dcontour": [
           {
            "colorbar": {
             "outlinewidth": 0,
             "ticks": ""
            },
            "colorscale": [
             [
              0,
              "#0d0887"
             ],
             [
              0.1111111111111111,
              "#46039f"
             ],
             [
              0.2222222222222222,
              "#7201a8"
             ],
             [
              0.3333333333333333,
              "#9c179e"
             ],
             [
              0.4444444444444444,
              "#bd3786"
             ],
             [
              0.5555555555555556,
              "#d8576b"
             ],
             [
              0.6666666666666666,
              "#ed7953"
             ],
             [
              0.7777777777777778,
              "#fb9f3a"
             ],
             [
              0.8888888888888888,
              "#fdca26"
             ],
             [
              1,
              "#f0f921"
             ]
            ],
            "type": "histogram2dcontour"
           }
          ],
          "mesh3d": [
           {
            "colorbar": {
             "outlinewidth": 0,
             "ticks": ""
            },
            "type": "mesh3d"
           }
          ],
          "parcoords": [
           {
            "line": {
             "colorbar": {
              "outlinewidth": 0,
              "ticks": ""
             }
            },
            "type": "parcoords"
           }
          ],
          "pie": [
           {
            "automargin": true,
            "type": "pie"
           }
          ],
          "scatter": [
           {
            "fillpattern": {
             "fillmode": "overlay",
             "size": 10,
             "solidity": 0.2
            },
            "type": "scatter"
           }
          ],
          "scatter3d": [
           {
            "line": {
             "colorbar": {
              "outlinewidth": 0,
              "ticks": ""
             }
            },
            "marker": {
             "colorbar": {
              "outlinewidth": 0,
              "ticks": ""
             }
            },
            "type": "scatter3d"
           }
          ],
          "scattercarpet": [
           {
            "marker": {
             "colorbar": {
              "outlinewidth": 0,
              "ticks": ""
             }
            },
            "type": "scattercarpet"
           }
          ],
          "scattergeo": [
           {
            "marker": {
             "colorbar": {
              "outlinewidth": 0,
              "ticks": ""
             }
            },
            "type": "scattergeo"
           }
          ],
          "scattergl": [
           {
            "marker": {
             "colorbar": {
              "outlinewidth": 0,
              "ticks": ""
             }
            },
            "type": "scattergl"
           }
          ],
          "scattermapbox": [
           {
            "marker": {
             "colorbar": {
              "outlinewidth": 0,
              "ticks": ""
             }
            },
            "type": "scattermapbox"
           }
          ],
          "scatterpolar": [
           {
            "marker": {
             "colorbar": {
              "outlinewidth": 0,
              "ticks": ""
             }
            },
            "type": "scatterpolar"
           }
          ],
          "scatterpolargl": [
           {
            "marker": {
             "colorbar": {
              "outlinewidth": 0,
              "ticks": ""
             }
            },
            "type": "scatterpolargl"
           }
          ],
          "scatterternary": [
           {
            "marker": {
             "colorbar": {
              "outlinewidth": 0,
              "ticks": ""
             }
            },
            "type": "scatterternary"
           }
          ],
          "surface": [
           {
            "colorbar": {
             "outlinewidth": 0,
             "ticks": ""
            },
            "colorscale": [
             [
              0,
              "#0d0887"
             ],
             [
              0.1111111111111111,
              "#46039f"
             ],
             [
              0.2222222222222222,
              "#7201a8"
             ],
             [
              0.3333333333333333,
              "#9c179e"
             ],
             [
              0.4444444444444444,
              "#bd3786"
             ],
             [
              0.5555555555555556,
              "#d8576b"
             ],
             [
              0.6666666666666666,
              "#ed7953"
             ],
             [
              0.7777777777777778,
              "#fb9f3a"
             ],
             [
              0.8888888888888888,
              "#fdca26"
             ],
             [
              1,
              "#f0f921"
             ]
            ],
            "type": "surface"
           }
          ],
          "table": [
           {
            "cells": {
             "fill": {
              "color": "#EBF0F8"
             },
             "line": {
              "color": "white"
             }
            },
            "header": {
             "fill": {
              "color": "#C8D4E3"
             },
             "line": {
              "color": "white"
             }
            },
            "type": "table"
           }
          ]
         },
         "layout": {
          "annotationdefaults": {
           "arrowcolor": "#2a3f5f",
           "arrowhead": 0,
           "arrowwidth": 1
          },
          "autotypenumbers": "strict",
          "coloraxis": {
           "colorbar": {
            "outlinewidth": 0,
            "ticks": ""
           }
          },
          "colorscale": {
           "diverging": [
            [
             0,
             "#8e0152"
            ],
            [
             0.1,
             "#c51b7d"
            ],
            [
             0.2,
             "#de77ae"
            ],
            [
             0.3,
             "#f1b6da"
            ],
            [
             0.4,
             "#fde0ef"
            ],
            [
             0.5,
             "#f7f7f7"
            ],
            [
             0.6,
             "#e6f5d0"
            ],
            [
             0.7,
             "#b8e186"
            ],
            [
             0.8,
             "#7fbc41"
            ],
            [
             0.9,
             "#4d9221"
            ],
            [
             1,
             "#276419"
            ]
           ],
           "sequential": [
            [
             0,
             "#0d0887"
            ],
            [
             0.1111111111111111,
             "#46039f"
            ],
            [
             0.2222222222222222,
             "#7201a8"
            ],
            [
             0.3333333333333333,
             "#9c179e"
            ],
            [
             0.4444444444444444,
             "#bd3786"
            ],
            [
             0.5555555555555556,
             "#d8576b"
            ],
            [
             0.6666666666666666,
             "#ed7953"
            ],
            [
             0.7777777777777778,
             "#fb9f3a"
            ],
            [
             0.8888888888888888,
             "#fdca26"
            ],
            [
             1,
             "#f0f921"
            ]
           ],
           "sequentialminus": [
            [
             0,
             "#0d0887"
            ],
            [
             0.1111111111111111,
             "#46039f"
            ],
            [
             0.2222222222222222,
             "#7201a8"
            ],
            [
             0.3333333333333333,
             "#9c179e"
            ],
            [
             0.4444444444444444,
             "#bd3786"
            ],
            [
             0.5555555555555556,
             "#d8576b"
            ],
            [
             0.6666666666666666,
             "#ed7953"
            ],
            [
             0.7777777777777778,
             "#fb9f3a"
            ],
            [
             0.8888888888888888,
             "#fdca26"
            ],
            [
             1,
             "#f0f921"
            ]
           ]
          },
          "colorway": [
           "#636efa",
           "#EF553B",
           "#00cc96",
           "#ab63fa",
           "#FFA15A",
           "#19d3f3",
           "#FF6692",
           "#B6E880",
           "#FF97FF",
           "#FECB52"
          ],
          "font": {
           "color": "#2a3f5f"
          },
          "geo": {
           "bgcolor": "white",
           "lakecolor": "white",
           "landcolor": "#E5ECF6",
           "showlakes": true,
           "showland": true,
           "subunitcolor": "white"
          },
          "hoverlabel": {
           "align": "left"
          },
          "hovermode": "closest",
          "mapbox": {
           "style": "light"
          },
          "paper_bgcolor": "white",
          "plot_bgcolor": "#E5ECF6",
          "polar": {
           "angularaxis": {
            "gridcolor": "white",
            "linecolor": "white",
            "ticks": ""
           },
           "bgcolor": "#E5ECF6",
           "radialaxis": {
            "gridcolor": "white",
            "linecolor": "white",
            "ticks": ""
           }
          },
          "scene": {
           "xaxis": {
            "backgroundcolor": "#E5ECF6",
            "gridcolor": "white",
            "gridwidth": 2,
            "linecolor": "white",
            "showbackground": true,
            "ticks": "",
            "zerolinecolor": "white"
           },
           "yaxis": {
            "backgroundcolor": "#E5ECF6",
            "gridcolor": "white",
            "gridwidth": 2,
            "linecolor": "white",
            "showbackground": true,
            "ticks": "",
            "zerolinecolor": "white"
           },
           "zaxis": {
            "backgroundcolor": "#E5ECF6",
            "gridcolor": "white",
            "gridwidth": 2,
            "linecolor": "white",
            "showbackground": true,
            "ticks": "",
            "zerolinecolor": "white"
           }
          },
          "shapedefaults": {
           "line": {
            "color": "#2a3f5f"
           }
          },
          "ternary": {
           "aaxis": {
            "gridcolor": "white",
            "linecolor": "white",
            "ticks": ""
           },
           "baxis": {
            "gridcolor": "white",
            "linecolor": "white",
            "ticks": ""
           },
           "bgcolor": "#E5ECF6",
           "caxis": {
            "gridcolor": "white",
            "linecolor": "white",
            "ticks": ""
           }
          },
          "title": {
           "x": 0.05
          },
          "xaxis": {
           "automargin": true,
           "gridcolor": "white",
           "linecolor": "white",
           "ticks": "",
           "title": {
            "standoff": 15
           },
           "zerolinecolor": "white",
           "zerolinewidth": 2
          },
          "yaxis": {
           "automargin": true,
           "gridcolor": "white",
           "linecolor": "white",
           "ticks": "",
           "title": {
            "standoff": 15
           },
           "zerolinecolor": "white",
           "zerolinewidth": 2
          }
         }
        },
        "title": {
         "text": "Student population of HBCUs"
        },
        "xaxis": {
         "anchor": "y",
         "domain": [
          0,
          1
         ],
         "title": {
          "text": "Student population"
         }
        },
        "yaxis": {
         "anchor": "x",
         "domain": [
          0,
          1
         ],
         "title": {
          "text": "index"
         }
        }
       }
      }
     },
     "metadata": {},
     "output_type": "display_data"
    }
   ],
   "source": [
    "#create scatterplot\n",
    "fig = px.scatter(df,x=df['Student population'],\n",
    "                 size=df['Student population'],\n",
    "                 hover_name=df['Name'],\n",
    "                 title='Student population of HBCUs', \n",
    "                 color_discrete_sequence=px.colors.qualitative.Bold,\n",
    "                 color=df[\"PublicPrivate\"])\n",
    "fig.show()"
   ]
  },
  {
   "cell_type": "code",
   "execution_count": 15,
   "metadata": {},
   "outputs": [],
   "source": [
    "#percentage of student population that were undergraduates column\n",
    "df['Percent Undergraduates'] = (df['Undergraduate students']/df['Student population'])*100"
   ]
  },
  {
   "cell_type": "code",
   "execution_count": 16,
   "metadata": {},
   "outputs": [
    {
     "data": {
      "application/vnd.plotly.v1+json": {
       "config": {
        "plotlyServerURL": "https://plot.ly"
       },
       "data": [
        {
         "hovertemplate": "<b>%{hovertext}</b><br><br>PublicPrivate=Public HBCU<br>Percent of students that are undergraduates=%{x}<br>index=%{y}<extra></extra>",
         "hovertext": [
          "Alabama A & M University",
          "Alabama State University",
          "Albany State University",
          "Alcorn State University",
          "Bishop State Community College",
          "Bluefield State University",
          "Bowie State University",
          "Central State University",
          "Cheyney University of Pennsylvania",
          "Coahoma Community College",
          "Coppin State University",
          "Delaware State University",
          "Denmark Technical College",
          "Elizabeth City State University",
          "Fayetteville State University",
          "Florida Agricultural and Mechanical University",
          "Fort Valley State University",
          "Gadsden State Community College",
          "Grambling State University",
          "H Councill Trenholm State Community College",
          "Harris-Stowe State University",
          "J. F. Drake State Community and Technical College",
          "Jackson State University",
          "Kentucky State University",
          "Langston University",
          "Lawson State Community College",
          "Lincoln University",
          "Lincoln University",
          "Mississippi Valley State University",
          "Morgan State University",
          "Norfolk State University",
          "North Carolina A & T State University",
          "North Carolina Central University",
          "Prairie View A & M University",
          "Savannah State University",
          "Shelton State Community College",
          "South Carolina State University",
          "Southern University and A & M College",
          "Southern University at New Orleans",
          "Southern University at Shreveport",
          "Southern University Law Center",
          "St Philip's College",
          "Tennessee State University",
          "Texas Southern University",
          "University of Arkansas at Pine Bluff",
          "University of Maryland Eastern Shore",
          "University of the District of Columbia",
          "University of the Virgin Islands",
          "University of the Virgin Islands-Albert A. Sheen",
          "Virginia State University",
          "West Virginia State University",
          "Winston-Salem State University"
         ],
         "legendgroup": "Public HBCU",
         "marker": {
          "color": "#2E91E5",
          "symbol": "circle"
         },
         "mode": "markers",
         "name": "Public HBCU",
         "orientation": "h",
         "showlegend": true,
         "type": "scatter",
         "x": [
          86.66555685034126,
          86.10240334378265,
          91.75876223555414,
          82.88441868394135,
          100,
          98.46860643185299,
          85.70517928286853,
          99.48472580051528,
          100,
          100,
          87.58723828514456,
          85.75351870923447,
          100,
          94.60214053047929,
          84.69132164432003,
          83.65708084644601,
          90.59500959692899,
          100,
          83.05654408857256,
          100,
          100,
          100,
          71.34375905010137,
          93.279258400927,
          93.22122963741461,
          100,
          94.38079650845607,
          93.85964912280701,
          88.02554550292709,
          83.60619712119546,
          92.28773992737334,
          87.73633869652258,
          74.59287700251555,
          89.47659010600707,
          93.0390492359932,
          100,
          89.61872404681012,
          78.6530513007537,
          86.15384615384616,
          100,
          null,
          100,
          83.29355608591885,
          79.12418906394811,
          91.41181399245916,
          76.76727561556791,
          85.46267822197372,
          84.22982885085575,
          null,
          92.51290877796902,
          96.0105680317041,
          90.18784972022382
         ],
         "xaxis": "x",
         "y": [
          0,
          1,
          2,
          3,
          10,
          11,
          12,
          13,
          14,
          18,
          19,
          20,
          21,
          24,
          25,
          27,
          29,
          30,
          31,
          32,
          34,
          38,
          39,
          42,
          44,
          45,
          47,
          48,
          52,
          55,
          57,
          58,
          59,
          64,
          67,
          70,
          73,
          74,
          75,
          76,
          77,
          80,
          83,
          85,
          88,
          89,
          90,
          91,
          92,
          93,
          97,
          100
         ],
         "yaxis": "y"
        },
        {
         "hovertemplate": "<b>%{hovertext}</b><br><br>PublicPrivate=Private HBCU<br>Percent of students that are undergraduates=%{x}<br>index=%{y}<extra></extra>",
         "hovertext": [
          "Allen University",
          "American Baptist College",
          "Arkansas Baptist College",
          "Benedict College",
          "Bennett College",
          "Bethune-Cookman University",
          "Claflin University",
          "Clark Atlanta University",
          "Clinton College",
          "Dillard University",
          "Edward Waters University",
          "Fisk University",
          "Florida Memorial University",
          "Hampton University",
          "Howard University",
          "Huston-Tillotson University",
          "Interdenominational Theological Center",
          "Jarvis Christian University",
          "Johnson C Smith University",
          "Lane College",
          "Le Moyne-Owen College",
          "Livingstone College",
          "Meharry Medical College",
          "Miles College",
          "Morehouse College",
          "Morehouse School of Medicine",
          "Morris College",
          "Oakwood University",
          "Paine College",
          "Paul Quinn College",
          "Philander Smith University",
          "Rust College",
          "Saint Augustine's University",
          "Selma University",
          "Shaw University",
          "Shorter College",
          "Simmons College of Kentucky",
          "Southwestern Christian College",
          "Spelman College",
          "Stillman College",
          "Talladega College",
          "Texas College",
          "Tougaloo College",
          "Tuskegee University",
          "Virginia Union University",
          "Virginia University of Lynchburg",
          "Voorhees University",
          "Wilberforce University",
          "Wiley University",
          "Xavier University of Louisiana"
         ],
         "legendgroup": "Private HBCU",
         "marker": {
          "color": "#E15F99",
          "symbol": "circle"
         },
         "mode": "markers",
         "name": "Private HBCU",
         "orientation": "h",
         "showlegend": true,
         "type": "scatter",
         "x": [
          91.78082191780823,
          100,
          100,
          97.60869565217392,
          100,
          96.36963696369637,
          95.57377049180327,
          85.675,
          100,
          100,
          96.69771380186283,
          95.63981042654028,
          96.56992084432717,
          86.60986001217286,
          76.12137203166228,
          96.6829268292683,
          null,
          100,
          96.24885635864592,
          100,
          100,
          100,
          null,
          100,
          100,
          null,
          100,
          97.34693877551021,
          100,
          100,
          100,
          100,
          97.92418772563177,
          62,
          86.5979381443299,
          100,
          100,
          100,
          100,
          100,
          92.46954595791806,
          100,
          97.04579025110783,
          81.71206225680933,
          71.45161290322581,
          57.22819593787336,
          93.29388560157791,
          98.01829268292683,
          100,
          78.85346592570927
         ],
         "xaxis": "x",
         "y": [
          4,
          5,
          6,
          7,
          8,
          9,
          15,
          16,
          17,
          22,
          23,
          26,
          28,
          33,
          35,
          36,
          37,
          40,
          41,
          43,
          46,
          49,
          50,
          51,
          53,
          54,
          56,
          60,
          61,
          62,
          63,
          65,
          66,
          68,
          69,
          71,
          72,
          78,
          79,
          81,
          82,
          84,
          86,
          87,
          94,
          95,
          96,
          98,
          99,
          101
         ],
         "yaxis": "y"
        }
       ],
       "layout": {
        "legend": {
         "title": {
          "text": "PublicPrivate"
         },
         "tracegroupgap": 0
        },
        "template": {
         "data": {
          "bar": [
           {
            "error_x": {
             "color": "#2a3f5f"
            },
            "error_y": {
             "color": "#2a3f5f"
            },
            "marker": {
             "line": {
              "color": "#E5ECF6",
              "width": 0.5
             },
             "pattern": {
              "fillmode": "overlay",
              "size": 10,
              "solidity": 0.2
             }
            },
            "type": "bar"
           }
          ],
          "barpolar": [
           {
            "marker": {
             "line": {
              "color": "#E5ECF6",
              "width": 0.5
             },
             "pattern": {
              "fillmode": "overlay",
              "size": 10,
              "solidity": 0.2
             }
            },
            "type": "barpolar"
           }
          ],
          "carpet": [
           {
            "aaxis": {
             "endlinecolor": "#2a3f5f",
             "gridcolor": "white",
             "linecolor": "white",
             "minorgridcolor": "white",
             "startlinecolor": "#2a3f5f"
            },
            "baxis": {
             "endlinecolor": "#2a3f5f",
             "gridcolor": "white",
             "linecolor": "white",
             "minorgridcolor": "white",
             "startlinecolor": "#2a3f5f"
            },
            "type": "carpet"
           }
          ],
          "choropleth": [
           {
            "colorbar": {
             "outlinewidth": 0,
             "ticks": ""
            },
            "type": "choropleth"
           }
          ],
          "contour": [
           {
            "colorbar": {
             "outlinewidth": 0,
             "ticks": ""
            },
            "colorscale": [
             [
              0,
              "#0d0887"
             ],
             [
              0.1111111111111111,
              "#46039f"
             ],
             [
              0.2222222222222222,
              "#7201a8"
             ],
             [
              0.3333333333333333,
              "#9c179e"
             ],
             [
              0.4444444444444444,
              "#bd3786"
             ],
             [
              0.5555555555555556,
              "#d8576b"
             ],
             [
              0.6666666666666666,
              "#ed7953"
             ],
             [
              0.7777777777777778,
              "#fb9f3a"
             ],
             [
              0.8888888888888888,
              "#fdca26"
             ],
             [
              1,
              "#f0f921"
             ]
            ],
            "type": "contour"
           }
          ],
          "contourcarpet": [
           {
            "colorbar": {
             "outlinewidth": 0,
             "ticks": ""
            },
            "type": "contourcarpet"
           }
          ],
          "heatmap": [
           {
            "colorbar": {
             "outlinewidth": 0,
             "ticks": ""
            },
            "colorscale": [
             [
              0,
              "#0d0887"
             ],
             [
              0.1111111111111111,
              "#46039f"
             ],
             [
              0.2222222222222222,
              "#7201a8"
             ],
             [
              0.3333333333333333,
              "#9c179e"
             ],
             [
              0.4444444444444444,
              "#bd3786"
             ],
             [
              0.5555555555555556,
              "#d8576b"
             ],
             [
              0.6666666666666666,
              "#ed7953"
             ],
             [
              0.7777777777777778,
              "#fb9f3a"
             ],
             [
              0.8888888888888888,
              "#fdca26"
             ],
             [
              1,
              "#f0f921"
             ]
            ],
            "type": "heatmap"
           }
          ],
          "heatmapgl": [
           {
            "colorbar": {
             "outlinewidth": 0,
             "ticks": ""
            },
            "colorscale": [
             [
              0,
              "#0d0887"
             ],
             [
              0.1111111111111111,
              "#46039f"
             ],
             [
              0.2222222222222222,
              "#7201a8"
             ],
             [
              0.3333333333333333,
              "#9c179e"
             ],
             [
              0.4444444444444444,
              "#bd3786"
             ],
             [
              0.5555555555555556,
              "#d8576b"
             ],
             [
              0.6666666666666666,
              "#ed7953"
             ],
             [
              0.7777777777777778,
              "#fb9f3a"
             ],
             [
              0.8888888888888888,
              "#fdca26"
             ],
             [
              1,
              "#f0f921"
             ]
            ],
            "type": "heatmapgl"
           }
          ],
          "histogram": [
           {
            "marker": {
             "pattern": {
              "fillmode": "overlay",
              "size": 10,
              "solidity": 0.2
             }
            },
            "type": "histogram"
           }
          ],
          "histogram2d": [
           {
            "colorbar": {
             "outlinewidth": 0,
             "ticks": ""
            },
            "colorscale": [
             [
              0,
              "#0d0887"
             ],
             [
              0.1111111111111111,
              "#46039f"
             ],
             [
              0.2222222222222222,
              "#7201a8"
             ],
             [
              0.3333333333333333,
              "#9c179e"
             ],
             [
              0.4444444444444444,
              "#bd3786"
             ],
             [
              0.5555555555555556,
              "#d8576b"
             ],
             [
              0.6666666666666666,
              "#ed7953"
             ],
             [
              0.7777777777777778,
              "#fb9f3a"
             ],
             [
              0.8888888888888888,
              "#fdca26"
             ],
             [
              1,
              "#f0f921"
             ]
            ],
            "type": "histogram2d"
           }
          ],
          "histogram2dcontour": [
           {
            "colorbar": {
             "outlinewidth": 0,
             "ticks": ""
            },
            "colorscale": [
             [
              0,
              "#0d0887"
             ],
             [
              0.1111111111111111,
              "#46039f"
             ],
             [
              0.2222222222222222,
              "#7201a8"
             ],
             [
              0.3333333333333333,
              "#9c179e"
             ],
             [
              0.4444444444444444,
              "#bd3786"
             ],
             [
              0.5555555555555556,
              "#d8576b"
             ],
             [
              0.6666666666666666,
              "#ed7953"
             ],
             [
              0.7777777777777778,
              "#fb9f3a"
             ],
             [
              0.8888888888888888,
              "#fdca26"
             ],
             [
              1,
              "#f0f921"
             ]
            ],
            "type": "histogram2dcontour"
           }
          ],
          "mesh3d": [
           {
            "colorbar": {
             "outlinewidth": 0,
             "ticks": ""
            },
            "type": "mesh3d"
           }
          ],
          "parcoords": [
           {
            "line": {
             "colorbar": {
              "outlinewidth": 0,
              "ticks": ""
             }
            },
            "type": "parcoords"
           }
          ],
          "pie": [
           {
            "automargin": true,
            "type": "pie"
           }
          ],
          "scatter": [
           {
            "fillpattern": {
             "fillmode": "overlay",
             "size": 10,
             "solidity": 0.2
            },
            "type": "scatter"
           }
          ],
          "scatter3d": [
           {
            "line": {
             "colorbar": {
              "outlinewidth": 0,
              "ticks": ""
             }
            },
            "marker": {
             "colorbar": {
              "outlinewidth": 0,
              "ticks": ""
             }
            },
            "type": "scatter3d"
           }
          ],
          "scattercarpet": [
           {
            "marker": {
             "colorbar": {
              "outlinewidth": 0,
              "ticks": ""
             }
            },
            "type": "scattercarpet"
           }
          ],
          "scattergeo": [
           {
            "marker": {
             "colorbar": {
              "outlinewidth": 0,
              "ticks": ""
             }
            },
            "type": "scattergeo"
           }
          ],
          "scattergl": [
           {
            "marker": {
             "colorbar": {
              "outlinewidth": 0,
              "ticks": ""
             }
            },
            "type": "scattergl"
           }
          ],
          "scattermapbox": [
           {
            "marker": {
             "colorbar": {
              "outlinewidth": 0,
              "ticks": ""
             }
            },
            "type": "scattermapbox"
           }
          ],
          "scatterpolar": [
           {
            "marker": {
             "colorbar": {
              "outlinewidth": 0,
              "ticks": ""
             }
            },
            "type": "scatterpolar"
           }
          ],
          "scatterpolargl": [
           {
            "marker": {
             "colorbar": {
              "outlinewidth": 0,
              "ticks": ""
             }
            },
            "type": "scatterpolargl"
           }
          ],
          "scatterternary": [
           {
            "marker": {
             "colorbar": {
              "outlinewidth": 0,
              "ticks": ""
             }
            },
            "type": "scatterternary"
           }
          ],
          "surface": [
           {
            "colorbar": {
             "outlinewidth": 0,
             "ticks": ""
            },
            "colorscale": [
             [
              0,
              "#0d0887"
             ],
             [
              0.1111111111111111,
              "#46039f"
             ],
             [
              0.2222222222222222,
              "#7201a8"
             ],
             [
              0.3333333333333333,
              "#9c179e"
             ],
             [
              0.4444444444444444,
              "#bd3786"
             ],
             [
              0.5555555555555556,
              "#d8576b"
             ],
             [
              0.6666666666666666,
              "#ed7953"
             ],
             [
              0.7777777777777778,
              "#fb9f3a"
             ],
             [
              0.8888888888888888,
              "#fdca26"
             ],
             [
              1,
              "#f0f921"
             ]
            ],
            "type": "surface"
           }
          ],
          "table": [
           {
            "cells": {
             "fill": {
              "color": "#EBF0F8"
             },
             "line": {
              "color": "white"
             }
            },
            "header": {
             "fill": {
              "color": "#C8D4E3"
             },
             "line": {
              "color": "white"
             }
            },
            "type": "table"
           }
          ]
         },
         "layout": {
          "annotationdefaults": {
           "arrowcolor": "#2a3f5f",
           "arrowhead": 0,
           "arrowwidth": 1
          },
          "autotypenumbers": "strict",
          "coloraxis": {
           "colorbar": {
            "outlinewidth": 0,
            "ticks": ""
           }
          },
          "colorscale": {
           "diverging": [
            [
             0,
             "#8e0152"
            ],
            [
             0.1,
             "#c51b7d"
            ],
            [
             0.2,
             "#de77ae"
            ],
            [
             0.3,
             "#f1b6da"
            ],
            [
             0.4,
             "#fde0ef"
            ],
            [
             0.5,
             "#f7f7f7"
            ],
            [
             0.6,
             "#e6f5d0"
            ],
            [
             0.7,
             "#b8e186"
            ],
            [
             0.8,
             "#7fbc41"
            ],
            [
             0.9,
             "#4d9221"
            ],
            [
             1,
             "#276419"
            ]
           ],
           "sequential": [
            [
             0,
             "#0d0887"
            ],
            [
             0.1111111111111111,
             "#46039f"
            ],
            [
             0.2222222222222222,
             "#7201a8"
            ],
            [
             0.3333333333333333,
             "#9c179e"
            ],
            [
             0.4444444444444444,
             "#bd3786"
            ],
            [
             0.5555555555555556,
             "#d8576b"
            ],
            [
             0.6666666666666666,
             "#ed7953"
            ],
            [
             0.7777777777777778,
             "#fb9f3a"
            ],
            [
             0.8888888888888888,
             "#fdca26"
            ],
            [
             1,
             "#f0f921"
            ]
           ],
           "sequentialminus": [
            [
             0,
             "#0d0887"
            ],
            [
             0.1111111111111111,
             "#46039f"
            ],
            [
             0.2222222222222222,
             "#7201a8"
            ],
            [
             0.3333333333333333,
             "#9c179e"
            ],
            [
             0.4444444444444444,
             "#bd3786"
            ],
            [
             0.5555555555555556,
             "#d8576b"
            ],
            [
             0.6666666666666666,
             "#ed7953"
            ],
            [
             0.7777777777777778,
             "#fb9f3a"
            ],
            [
             0.8888888888888888,
             "#fdca26"
            ],
            [
             1,
             "#f0f921"
            ]
           ]
          },
          "colorway": [
           "#636efa",
           "#EF553B",
           "#00cc96",
           "#ab63fa",
           "#FFA15A",
           "#19d3f3",
           "#FF6692",
           "#B6E880",
           "#FF97FF",
           "#FECB52"
          ],
          "font": {
           "color": "#2a3f5f"
          },
          "geo": {
           "bgcolor": "white",
           "lakecolor": "white",
           "landcolor": "#E5ECF6",
           "showlakes": true,
           "showland": true,
           "subunitcolor": "white"
          },
          "hoverlabel": {
           "align": "left"
          },
          "hovermode": "closest",
          "mapbox": {
           "style": "light"
          },
          "paper_bgcolor": "white",
          "plot_bgcolor": "#E5ECF6",
          "polar": {
           "angularaxis": {
            "gridcolor": "white",
            "linecolor": "white",
            "ticks": ""
           },
           "bgcolor": "#E5ECF6",
           "radialaxis": {
            "gridcolor": "white",
            "linecolor": "white",
            "ticks": ""
           }
          },
          "scene": {
           "xaxis": {
            "backgroundcolor": "#E5ECF6",
            "gridcolor": "white",
            "gridwidth": 2,
            "linecolor": "white",
            "showbackground": true,
            "ticks": "",
            "zerolinecolor": "white"
           },
           "yaxis": {
            "backgroundcolor": "#E5ECF6",
            "gridcolor": "white",
            "gridwidth": 2,
            "linecolor": "white",
            "showbackground": true,
            "ticks": "",
            "zerolinecolor": "white"
           },
           "zaxis": {
            "backgroundcolor": "#E5ECF6",
            "gridcolor": "white",
            "gridwidth": 2,
            "linecolor": "white",
            "showbackground": true,
            "ticks": "",
            "zerolinecolor": "white"
           }
          },
          "shapedefaults": {
           "line": {
            "color": "#2a3f5f"
           }
          },
          "ternary": {
           "aaxis": {
            "gridcolor": "white",
            "linecolor": "white",
            "ticks": ""
           },
           "baxis": {
            "gridcolor": "white",
            "linecolor": "white",
            "ticks": ""
           },
           "bgcolor": "#E5ECF6",
           "caxis": {
            "gridcolor": "white",
            "linecolor": "white",
            "ticks": ""
           }
          },
          "title": {
           "x": 0.05
          },
          "xaxis": {
           "automargin": true,
           "gridcolor": "white",
           "linecolor": "white",
           "ticks": "",
           "title": {
            "standoff": 15
           },
           "zerolinecolor": "white",
           "zerolinewidth": 2
          },
          "yaxis": {
           "automargin": true,
           "gridcolor": "white",
           "linecolor": "white",
           "ticks": "",
           "title": {
            "standoff": 15
           },
           "zerolinecolor": "white",
           "zerolinewidth": 2
          }
         }
        },
        "title": {
         "text": "Percentage of the student population that are undergraduates for Public and Private HBCUs"
        },
        "xaxis": {
         "anchor": "y",
         "domain": [
          0,
          1
         ],
         "title": {
          "text": "Percent of students that are undergraduates"
         }
        },
        "yaxis": {
         "anchor": "x",
         "domain": [
          0,
          1
         ],
         "title": {
          "text": "index"
         }
        }
       }
      }
     },
     "metadata": {},
     "output_type": "display_data"
    }
   ],
   "source": [
    "#create scatterplot\n",
    "fig = px.scatter(df,x=df['Percent Undergraduates'],\n",
    "                hover_name=df['Name'],\n",
    "                 title='Percentage of the student population that are undergraduates for Public and Private HBCUs', \n",
    "                 color_discrete_sequence=px.colors.qualitative.Dark24, labels={'Percent Undergraduates':\"Percent of students that are undergraduates\"},\n",
    "                 color=df[\"PublicPrivate\"])\n",
    "fig.show()"
   ]
  },
  {
   "cell_type": "code",
   "execution_count": 17,
   "metadata": {},
   "outputs": [
    {
     "data": {
      "text/plain": [
       "array(['City: Midsize', 'City: Small', 'Rural: Remote', 'City: Large',\n",
       "       'Town: Distant', 'Suburb: Large', 'Rural: Fringe', 'Town: Fringe',\n",
       "       'Rural: Distant', 'Suburb: Midsize', 'Town: Remote', nan],\n",
       "      dtype=object)"
      ]
     },
     "execution_count": 17,
     "metadata": {},
     "output_type": "execute_result"
    },
    {
     "data": {
      "text/plain": [
       "92    University of the Virgin Islands-Albert A. Sheen\n",
       "Name: Name, dtype: object"
      ]
     },
     "execution_count": 17,
     "metadata": {},
     "output_type": "execute_result"
    },
    {
     "data": {
      "text/plain": [
       "0        City: Midsize\n",
       "1        City: Midsize\n",
       "2          City: Small\n",
       "3        Rural: Remote\n",
       "4        City: Midsize\n",
       "            ...       \n",
       "97     Suburb: Midsize\n",
       "98       Rural: Fringe\n",
       "99       Town: Distant\n",
       "100      City: Midsize\n",
       "101        City: Large\n",
       "Name: Campus_setting, Length: 102, dtype: object"
      ]
     },
     "execution_count": 17,
     "metadata": {},
     "output_type": "execute_result"
    },
    {
     "data": {
      "text/plain": [
       "array(['City: Midsize', 'City: Small', 'Rural: Remote', 'City: Large',\n",
       "       'Town: Distant', 'Suburb: Large', 'Rural: Fringe', 'Town: Fringe',\n",
       "       'Rural: Distant', 'Suburb: Midsize', 'Town: Remote', nan],\n",
       "      dtype=object)"
      ]
     },
     "execution_count": 17,
     "metadata": {},
     "output_type": "execute_result"
    }
   ],
   "source": [
    "#collasping Campus setting column\n",
    "#rename campus setting column to get rid of space\n",
    "df = df.rename(columns={'Campus setting': 'Campus_setting'})\n",
    "#get unique values for Campus setting column\n",
    "df['Campus_setting'].unique()\n",
    "#find which row is nan on Campus setting\n",
    "df['Name'][df['Campus_setting'].isna()]\n",
    "#replace na value with Town\n",
    "df['Campus_setting'].fillna('Town: Distant')\n",
    "#get unique values for Campus setting column\n",
    "df['Campus_setting'].unique()"
   ]
  },
  {
   "cell_type": "code",
   "execution_count": 18,
   "metadata": {},
   "outputs": [
    {
     "data": {
      "text/html": [
       "<div>\n",
       "<style scoped>\n",
       "    .dataframe tbody tr th:only-of-type {\n",
       "        vertical-align: middle;\n",
       "    }\n",
       "\n",
       "    .dataframe tbody tr th {\n",
       "        vertical-align: top;\n",
       "    }\n",
       "\n",
       "    .dataframe thead th {\n",
       "        text-align: right;\n",
       "    }\n",
       "</style>\n",
       "<table border=\"1\" class=\"dataframe\">\n",
       "  <thead>\n",
       "    <tr style=\"text-align: right;\">\n",
       "      <th>Setting</th>\n",
       "      <th>City</th>\n",
       "      <th>Rural</th>\n",
       "      <th>Suburb</th>\n",
       "      <th>Town</th>\n",
       "      <th>All</th>\n",
       "    </tr>\n",
       "    <tr>\n",
       "      <th>Campus_setting</th>\n",
       "      <th></th>\n",
       "      <th></th>\n",
       "      <th></th>\n",
       "      <th></th>\n",
       "      <th></th>\n",
       "    </tr>\n",
       "  </thead>\n",
       "  <tbody>\n",
       "    <tr>\n",
       "      <th>City: Large</th>\n",
       "      <td>30</td>\n",
       "      <td>0</td>\n",
       "      <td>0</td>\n",
       "      <td>0</td>\n",
       "      <td>30</td>\n",
       "    </tr>\n",
       "    <tr>\n",
       "      <th>City: Midsize</th>\n",
       "      <td>25</td>\n",
       "      <td>0</td>\n",
       "      <td>0</td>\n",
       "      <td>0</td>\n",
       "      <td>25</td>\n",
       "    </tr>\n",
       "    <tr>\n",
       "      <th>City: Small</th>\n",
       "      <td>13</td>\n",
       "      <td>0</td>\n",
       "      <td>0</td>\n",
       "      <td>0</td>\n",
       "      <td>13</td>\n",
       "    </tr>\n",
       "    <tr>\n",
       "      <th>Rural: Distant</th>\n",
       "      <td>0</td>\n",
       "      <td>2</td>\n",
       "      <td>0</td>\n",
       "      <td>0</td>\n",
       "      <td>2</td>\n",
       "    </tr>\n",
       "    <tr>\n",
       "      <th>Rural: Fringe</th>\n",
       "      <td>0</td>\n",
       "      <td>4</td>\n",
       "      <td>0</td>\n",
       "      <td>0</td>\n",
       "      <td>4</td>\n",
       "    </tr>\n",
       "    <tr>\n",
       "      <th>Rural: Remote</th>\n",
       "      <td>0</td>\n",
       "      <td>1</td>\n",
       "      <td>0</td>\n",
       "      <td>0</td>\n",
       "      <td>1</td>\n",
       "    </tr>\n",
       "    <tr>\n",
       "      <th>Suburb: Large</th>\n",
       "      <td>0</td>\n",
       "      <td>0</td>\n",
       "      <td>6</td>\n",
       "      <td>0</td>\n",
       "      <td>6</td>\n",
       "    </tr>\n",
       "    <tr>\n",
       "      <th>Suburb: Midsize</th>\n",
       "      <td>0</td>\n",
       "      <td>0</td>\n",
       "      <td>2</td>\n",
       "      <td>0</td>\n",
       "      <td>2</td>\n",
       "    </tr>\n",
       "    <tr>\n",
       "      <th>Town: Distant</th>\n",
       "      <td>0</td>\n",
       "      <td>0</td>\n",
       "      <td>0</td>\n",
       "      <td>14</td>\n",
       "      <td>14</td>\n",
       "    </tr>\n",
       "    <tr>\n",
       "      <th>Town: Fringe</th>\n",
       "      <td>0</td>\n",
       "      <td>0</td>\n",
       "      <td>0</td>\n",
       "      <td>2</td>\n",
       "      <td>2</td>\n",
       "    </tr>\n",
       "    <tr>\n",
       "      <th>Town: Remote</th>\n",
       "      <td>0</td>\n",
       "      <td>0</td>\n",
       "      <td>0</td>\n",
       "      <td>2</td>\n",
       "      <td>2</td>\n",
       "    </tr>\n",
       "    <tr>\n",
       "      <th>All</th>\n",
       "      <td>68</td>\n",
       "      <td>7</td>\n",
       "      <td>8</td>\n",
       "      <td>18</td>\n",
       "      <td>101</td>\n",
       "    </tr>\n",
       "  </tbody>\n",
       "</table>\n",
       "</div>"
      ],
      "text/plain": [
       "Setting          City  Rural  Suburb  Town  All\n",
       "Campus_setting                                 \n",
       "City: Large        30      0       0     0   30\n",
       "City: Midsize      25      0       0     0   25\n",
       "City: Small        13      0       0     0   13\n",
       "Rural: Distant      0      2       0     0    2\n",
       "Rural: Fringe       0      4       0     0    4\n",
       "Rural: Remote       0      1       0     0    1\n",
       "Suburb: Large       0      0       6     0    6\n",
       "Suburb: Midsize     0      0       2     0    2\n",
       "Town: Distant       0      0       0    14   14\n",
       "Town: Fringe        0      0       0     2    2\n",
       "Town: Remote        0      0       0     2    2\n",
       "All                68      7       8    18  101"
      ]
     },
     "execution_count": 18,
     "metadata": {},
     "output_type": "execute_result"
    }
   ],
   "source": [
    "#create mapping from Campus setting variable to Setting variable\n",
    "type_mapping = {'City: Midsize':'City',\n",
    "                'City: Small': 'City', \n",
    "                'Rural: Remote':'Rural',\n",
    "                'City: Large':'City',\n",
    "                'Town: Distant':'Town',\n",
    "                'Suburb: Large': 'Suburb',\n",
    "                'Rural: Fringe':'Rural',\n",
    "                'Town: Fringe': 'Town',\n",
    "                'Rural: Distant': 'Rural',\n",
    "                'Suburb: Midsize' : 'Suburb',\n",
    "                'Town: Remote': 'Town'\n",
    "               }\n",
    "#recode campus setting column into setting column\n",
    "df = df.assign(Setting=df.Campus_setting.map(type_mapping))\n",
    "#crosstab to see if recode went correctly\n",
    "pd.crosstab(index= df['Campus_setting'], columns=df['Setting'], margins=True)"
   ]
  },
  {
   "cell_type": "code",
   "execution_count": 19,
   "metadata": {},
   "outputs": [
    {
     "data": {
      "application/vnd.plotly.v1+json": {
       "config": {
        "plotlyServerURL": "https://plot.ly"
       },
       "data": [
        {
         "hovertemplate": "<b>%{hovertext}</b><br><br>Setting=City<br>Student population=%{marker.size}<br>index=%{y}<extra></extra>",
         "hovertext": [
          "Alabama A & M University",
          "Alabama State University",
          "Albany State University",
          "Allen University",
          "American Baptist College",
          "Arkansas Baptist College",
          "Benedict College",
          "Bennett College",
          "Bethune-Cookman University",
          "Bishop State Community College",
          "Clark Atlanta University",
          "Clinton College",
          "Coppin State University",
          "Delaware State University",
          "Dillard University",
          "Edward Waters University",
          "Fayetteville State University",
          "Fisk University",
          "Florida Agricultural and Mechanical University",
          "Gadsden State Community College",
          "H Councill Trenholm State Community College",
          "Hampton University",
          "Harris-Stowe State University",
          "Howard University",
          "Huston-Tillotson University",
          "Interdenominational Theological Center",
          "J. F. Drake State Community and Technical College",
          "Jackson State University",
          "Johnson C Smith University",
          "Lane College",
          "Lawson State Community College",
          "Le Moyne-Owen College",
          "Lincoln University",
          "Meharry Medical College",
          "Morehouse College",
          "Morehouse School of Medicine",
          "Morgan State University",
          "Morris College",
          "Norfolk State University",
          "North Carolina A & T State University",
          "North Carolina Central University",
          "Oakwood University",
          "Paine College",
          "Paul Quinn College",
          "Philander Smith University",
          "Saint Augustine's University",
          "Savannah State University",
          "Shaw University",
          "Shelton State Community College",
          "Shorter College",
          "Simmons College of Kentucky",
          "Southern University and A & M College",
          "Southern University at New Orleans",
          "Southern University at Shreveport",
          "Southern University Law Center",
          "Spelman College",
          "St Philip's College",
          "Stillman College",
          "Tennessee State University",
          "Texas College",
          "Texas Southern University",
          "Tougaloo College",
          "University of Arkansas at Pine Bluff",
          "University of the District of Columbia",
          "Virginia Union University",
          "Virginia University of Lynchburg",
          "Winston-Salem State University",
          "Xavier University of Louisiana"
         ],
         "legendgroup": "City",
         "marker": {
          "color": "#2E91E5",
          "size": [
           6007,
           3828,
           6334,
           657,
           53,
           497,
           1840,
           168,
           2727,
           2968,
           4000,
           197,
           2006,
           5826,
           1224,
           1181,
           6787,
           1055,
           9215,
           4352,
           1984,
           3286,
           1084,
           12886,
           1025,
           193,
           976,
           6906,
           1093,
           1010,
           2919,
           609,
           1833,
           962,
           2567,
           891,
           9101,
           384,
           5783,
           13487,
           7553,
           1470,
           310,
           938,
           769,
           1108,
           2945,
           1067,
           4166,
           321,
           237,
           8226,
           1950,
           3154,
           843,
           3102,
           12653,
           744,
           9218,
           642,
           8632,
           677,
           2387,
           3577,
           1860,
           837,
           5004,
           3419
          ],
          "sizemode": "area",
          "sizeref": 33.7175,
          "symbol": "circle"
         },
         "mode": "markers",
         "name": "City",
         "orientation": "h",
         "showlegend": true,
         "type": "scatter",
         "x": [
          6007,
          3828,
          6334,
          657,
          53,
          497,
          1840,
          168,
          2727,
          2968,
          4000,
          197,
          2006,
          5826,
          1224,
          1181,
          6787,
          1055,
          9215,
          4352,
          1984,
          3286,
          1084,
          12886,
          1025,
          193,
          976,
          6906,
          1093,
          1010,
          2919,
          609,
          1833,
          962,
          2567,
          891,
          9101,
          384,
          5783,
          13487,
          7553,
          1470,
          310,
          938,
          769,
          1108,
          2945,
          1067,
          4166,
          321,
          237,
          8226,
          1950,
          3154,
          843,
          3102,
          12653,
          744,
          9218,
          642,
          8632,
          677,
          2387,
          3577,
          1860,
          837,
          5004,
          3419
         ],
         "xaxis": "x",
         "y": [
          0,
          1,
          2,
          4,
          5,
          6,
          7,
          8,
          9,
          10,
          16,
          17,
          19,
          20,
          22,
          23,
          25,
          26,
          27,
          30,
          32,
          33,
          34,
          35,
          36,
          37,
          38,
          39,
          41,
          43,
          45,
          46,
          47,
          50,
          53,
          54,
          55,
          56,
          57,
          58,
          59,
          60,
          61,
          62,
          63,
          66,
          67,
          69,
          70,
          71,
          72,
          74,
          75,
          76,
          77,
          79,
          80,
          81,
          83,
          84,
          85,
          86,
          88,
          90,
          94,
          95,
          100,
          101
         ],
         "yaxis": "y"
        },
        {
         "hovertemplate": "<b>%{hovertext}</b><br><br>Setting=Rural<br>Student population=%{marker.size}<br>index=%{y}<extra></extra>",
         "hovertext": [
          "Alcorn State University",
          "Central State University",
          "Coahoma Community College",
          "Denmark Technical College",
          "Jarvis Christian University",
          "Langston University",
          "Wilberforce University"
         ],
         "legendgroup": "Rural",
         "marker": {
          "color": "#E15F99",
          "size": [
           2933,
           5434,
           1783,
           725,
           729,
           1903,
           656
          ],
          "sizemode": "area",
          "sizeref": 33.7175,
          "symbol": "circle"
         },
         "mode": "markers",
         "name": "Rural",
         "orientation": "h",
         "showlegend": true,
         "type": "scatter",
         "x": [
          2933,
          5434,
          1783,
          725,
          729,
          1903,
          656
         ],
         "xaxis": "x",
         "y": [
          3,
          13,
          18,
          21,
          40,
          44,
          98
         ],
         "yaxis": "y"
        },
        {
         "hovertemplate": "<b>%{hovertext}</b><br><br>Setting=Town<br>Student population=%{marker.size}<br>index=%{y}<extra></extra>",
         "hovertext": [
          "Bluefield State University",
          "Claflin University",
          "Elizabeth City State University",
          "Fort Valley State University",
          "Grambling State University",
          "Kentucky State University",
          "Mississippi Valley State University",
          "Prairie View A & M University",
          "Rust College",
          "Selma University",
          "South Carolina State University",
          "Southwestern Christian College",
          "Talladega College",
          "Tuskegee University",
          "University of Maryland Eastern Shore",
          "University of the Virgin Islands",
          "Voorhees University",
          "Wiley University"
         ],
         "legendgroup": "Town",
         "marker": {
          "color": "#1CA71C",
          "size": [
           1306,
           1830,
           2149,
           2605,
           5058,
           1726,
           1879,
           9056,
           755,
           50,
           2649,
           88,
           903,
           2570,
           2518,
           1636,
           507,
           698
          ],
          "sizemode": "area",
          "sizeref": 33.7175,
          "symbol": "circle"
         },
         "mode": "markers",
         "name": "Town",
         "orientation": "h",
         "showlegend": true,
         "type": "scatter",
         "x": [
          1306,
          1830,
          2149,
          2605,
          5058,
          1726,
          1879,
          9056,
          755,
          50,
          2649,
          88,
          903,
          2570,
          2518,
          1636,
          507,
          698
         ],
         "xaxis": "x",
         "y": [
          11,
          15,
          24,
          29,
          31,
          42,
          52,
          64,
          65,
          68,
          73,
          78,
          82,
          87,
          89,
          91,
          96,
          99
         ],
         "yaxis": "y"
        },
        {
         "hovertemplate": "<b>%{hovertext}</b><br><br>Setting=Suburb<br>Student population=%{marker.size}<br>index=%{y}<extra></extra>",
         "hovertext": [
          "Bowie State University",
          "Cheyney University of Pennsylvania",
          "Florida Memorial University",
          "Lincoln University",
          "Livingstone College",
          "Miles College",
          "Virginia State University",
          "West Virginia State University"
         ],
         "legendgroup": "Suburb",
         "marker": {
          "color": "#FB0D0D",
          "size": [
           6275,
           697,
           1137,
           1824,
           839,
           1258,
           4648,
           3785
          ],
          "sizemode": "area",
          "sizeref": 33.7175,
          "symbol": "circle"
         },
         "mode": "markers",
         "name": "Suburb",
         "orientation": "h",
         "showlegend": true,
         "type": "scatter",
         "x": [
          6275,
          697,
          1137,
          1824,
          839,
          1258,
          4648,
          3785
         ],
         "xaxis": "x",
         "y": [
          12,
          14,
          28,
          48,
          49,
          51,
          93,
          97
         ],
         "yaxis": "y"
        }
       ],
       "layout": {
        "legend": {
         "itemsizing": "constant",
         "title": {
          "text": "Setting"
         },
         "tracegroupgap": 0
        },
        "template": {
         "data": {
          "bar": [
           {
            "error_x": {
             "color": "#2a3f5f"
            },
            "error_y": {
             "color": "#2a3f5f"
            },
            "marker": {
             "line": {
              "color": "#E5ECF6",
              "width": 0.5
             },
             "pattern": {
              "fillmode": "overlay",
              "size": 10,
              "solidity": 0.2
             }
            },
            "type": "bar"
           }
          ],
          "barpolar": [
           {
            "marker": {
             "line": {
              "color": "#E5ECF6",
              "width": 0.5
             },
             "pattern": {
              "fillmode": "overlay",
              "size": 10,
              "solidity": 0.2
             }
            },
            "type": "barpolar"
           }
          ],
          "carpet": [
           {
            "aaxis": {
             "endlinecolor": "#2a3f5f",
             "gridcolor": "white",
             "linecolor": "white",
             "minorgridcolor": "white",
             "startlinecolor": "#2a3f5f"
            },
            "baxis": {
             "endlinecolor": "#2a3f5f",
             "gridcolor": "white",
             "linecolor": "white",
             "minorgridcolor": "white",
             "startlinecolor": "#2a3f5f"
            },
            "type": "carpet"
           }
          ],
          "choropleth": [
           {
            "colorbar": {
             "outlinewidth": 0,
             "ticks": ""
            },
            "type": "choropleth"
           }
          ],
          "contour": [
           {
            "colorbar": {
             "outlinewidth": 0,
             "ticks": ""
            },
            "colorscale": [
             [
              0,
              "#0d0887"
             ],
             [
              0.1111111111111111,
              "#46039f"
             ],
             [
              0.2222222222222222,
              "#7201a8"
             ],
             [
              0.3333333333333333,
              "#9c179e"
             ],
             [
              0.4444444444444444,
              "#bd3786"
             ],
             [
              0.5555555555555556,
              "#d8576b"
             ],
             [
              0.6666666666666666,
              "#ed7953"
             ],
             [
              0.7777777777777778,
              "#fb9f3a"
             ],
             [
              0.8888888888888888,
              "#fdca26"
             ],
             [
              1,
              "#f0f921"
             ]
            ],
            "type": "contour"
           }
          ],
          "contourcarpet": [
           {
            "colorbar": {
             "outlinewidth": 0,
             "ticks": ""
            },
            "type": "contourcarpet"
           }
          ],
          "heatmap": [
           {
            "colorbar": {
             "outlinewidth": 0,
             "ticks": ""
            },
            "colorscale": [
             [
              0,
              "#0d0887"
             ],
             [
              0.1111111111111111,
              "#46039f"
             ],
             [
              0.2222222222222222,
              "#7201a8"
             ],
             [
              0.3333333333333333,
              "#9c179e"
             ],
             [
              0.4444444444444444,
              "#bd3786"
             ],
             [
              0.5555555555555556,
              "#d8576b"
             ],
             [
              0.6666666666666666,
              "#ed7953"
             ],
             [
              0.7777777777777778,
              "#fb9f3a"
             ],
             [
              0.8888888888888888,
              "#fdca26"
             ],
             [
              1,
              "#f0f921"
             ]
            ],
            "type": "heatmap"
           }
          ],
          "heatmapgl": [
           {
            "colorbar": {
             "outlinewidth": 0,
             "ticks": ""
            },
            "colorscale": [
             [
              0,
              "#0d0887"
             ],
             [
              0.1111111111111111,
              "#46039f"
             ],
             [
              0.2222222222222222,
              "#7201a8"
             ],
             [
              0.3333333333333333,
              "#9c179e"
             ],
             [
              0.4444444444444444,
              "#bd3786"
             ],
             [
              0.5555555555555556,
              "#d8576b"
             ],
             [
              0.6666666666666666,
              "#ed7953"
             ],
             [
              0.7777777777777778,
              "#fb9f3a"
             ],
             [
              0.8888888888888888,
              "#fdca26"
             ],
             [
              1,
              "#f0f921"
             ]
            ],
            "type": "heatmapgl"
           }
          ],
          "histogram": [
           {
            "marker": {
             "pattern": {
              "fillmode": "overlay",
              "size": 10,
              "solidity": 0.2
             }
            },
            "type": "histogram"
           }
          ],
          "histogram2d": [
           {
            "colorbar": {
             "outlinewidth": 0,
             "ticks": ""
            },
            "colorscale": [
             [
              0,
              "#0d0887"
             ],
             [
              0.1111111111111111,
              "#46039f"
             ],
             [
              0.2222222222222222,
              "#7201a8"
             ],
             [
              0.3333333333333333,
              "#9c179e"
             ],
             [
              0.4444444444444444,
              "#bd3786"
             ],
             [
              0.5555555555555556,
              "#d8576b"
             ],
             [
              0.6666666666666666,
              "#ed7953"
             ],
             [
              0.7777777777777778,
              "#fb9f3a"
             ],
             [
              0.8888888888888888,
              "#fdca26"
             ],
             [
              1,
              "#f0f921"
             ]
            ],
            "type": "histogram2d"
           }
          ],
          "histogram2dcontour": [
           {
            "colorbar": {
             "outlinewidth": 0,
             "ticks": ""
            },
            "colorscale": [
             [
              0,
              "#0d0887"
             ],
             [
              0.1111111111111111,
              "#46039f"
             ],
             [
              0.2222222222222222,
              "#7201a8"
             ],
             [
              0.3333333333333333,
              "#9c179e"
             ],
             [
              0.4444444444444444,
              "#bd3786"
             ],
             [
              0.5555555555555556,
              "#d8576b"
             ],
             [
              0.6666666666666666,
              "#ed7953"
             ],
             [
              0.7777777777777778,
              "#fb9f3a"
             ],
             [
              0.8888888888888888,
              "#fdca26"
             ],
             [
              1,
              "#f0f921"
             ]
            ],
            "type": "histogram2dcontour"
           }
          ],
          "mesh3d": [
           {
            "colorbar": {
             "outlinewidth": 0,
             "ticks": ""
            },
            "type": "mesh3d"
           }
          ],
          "parcoords": [
           {
            "line": {
             "colorbar": {
              "outlinewidth": 0,
              "ticks": ""
             }
            },
            "type": "parcoords"
           }
          ],
          "pie": [
           {
            "automargin": true,
            "type": "pie"
           }
          ],
          "scatter": [
           {
            "fillpattern": {
             "fillmode": "overlay",
             "size": 10,
             "solidity": 0.2
            },
            "type": "scatter"
           }
          ],
          "scatter3d": [
           {
            "line": {
             "colorbar": {
              "outlinewidth": 0,
              "ticks": ""
             }
            },
            "marker": {
             "colorbar": {
              "outlinewidth": 0,
              "ticks": ""
             }
            },
            "type": "scatter3d"
           }
          ],
          "scattercarpet": [
           {
            "marker": {
             "colorbar": {
              "outlinewidth": 0,
              "ticks": ""
             }
            },
            "type": "scattercarpet"
           }
          ],
          "scattergeo": [
           {
            "marker": {
             "colorbar": {
              "outlinewidth": 0,
              "ticks": ""
             }
            },
            "type": "scattergeo"
           }
          ],
          "scattergl": [
           {
            "marker": {
             "colorbar": {
              "outlinewidth": 0,
              "ticks": ""
             }
            },
            "type": "scattergl"
           }
          ],
          "scattermapbox": [
           {
            "marker": {
             "colorbar": {
              "outlinewidth": 0,
              "ticks": ""
             }
            },
            "type": "scattermapbox"
           }
          ],
          "scatterpolar": [
           {
            "marker": {
             "colorbar": {
              "outlinewidth": 0,
              "ticks": ""
             }
            },
            "type": "scatterpolar"
           }
          ],
          "scatterpolargl": [
           {
            "marker": {
             "colorbar": {
              "outlinewidth": 0,
              "ticks": ""
             }
            },
            "type": "scatterpolargl"
           }
          ],
          "scatterternary": [
           {
            "marker": {
             "colorbar": {
              "outlinewidth": 0,
              "ticks": ""
             }
            },
            "type": "scatterternary"
           }
          ],
          "surface": [
           {
            "colorbar": {
             "outlinewidth": 0,
             "ticks": ""
            },
            "colorscale": [
             [
              0,
              "#0d0887"
             ],
             [
              0.1111111111111111,
              "#46039f"
             ],
             [
              0.2222222222222222,
              "#7201a8"
             ],
             [
              0.3333333333333333,
              "#9c179e"
             ],
             [
              0.4444444444444444,
              "#bd3786"
             ],
             [
              0.5555555555555556,
              "#d8576b"
             ],
             [
              0.6666666666666666,
              "#ed7953"
             ],
             [
              0.7777777777777778,
              "#fb9f3a"
             ],
             [
              0.8888888888888888,
              "#fdca26"
             ],
             [
              1,
              "#f0f921"
             ]
            ],
            "type": "surface"
           }
          ],
          "table": [
           {
            "cells": {
             "fill": {
              "color": "#EBF0F8"
             },
             "line": {
              "color": "white"
             }
            },
            "header": {
             "fill": {
              "color": "#C8D4E3"
             },
             "line": {
              "color": "white"
             }
            },
            "type": "table"
           }
          ]
         },
         "layout": {
          "annotationdefaults": {
           "arrowcolor": "#2a3f5f",
           "arrowhead": 0,
           "arrowwidth": 1
          },
          "autotypenumbers": "strict",
          "coloraxis": {
           "colorbar": {
            "outlinewidth": 0,
            "ticks": ""
           }
          },
          "colorscale": {
           "diverging": [
            [
             0,
             "#8e0152"
            ],
            [
             0.1,
             "#c51b7d"
            ],
            [
             0.2,
             "#de77ae"
            ],
            [
             0.3,
             "#f1b6da"
            ],
            [
             0.4,
             "#fde0ef"
            ],
            [
             0.5,
             "#f7f7f7"
            ],
            [
             0.6,
             "#e6f5d0"
            ],
            [
             0.7,
             "#b8e186"
            ],
            [
             0.8,
             "#7fbc41"
            ],
            [
             0.9,
             "#4d9221"
            ],
            [
             1,
             "#276419"
            ]
           ],
           "sequential": [
            [
             0,
             "#0d0887"
            ],
            [
             0.1111111111111111,
             "#46039f"
            ],
            [
             0.2222222222222222,
             "#7201a8"
            ],
            [
             0.3333333333333333,
             "#9c179e"
            ],
            [
             0.4444444444444444,
             "#bd3786"
            ],
            [
             0.5555555555555556,
             "#d8576b"
            ],
            [
             0.6666666666666666,
             "#ed7953"
            ],
            [
             0.7777777777777778,
             "#fb9f3a"
            ],
            [
             0.8888888888888888,
             "#fdca26"
            ],
            [
             1,
             "#f0f921"
            ]
           ],
           "sequentialminus": [
            [
             0,
             "#0d0887"
            ],
            [
             0.1111111111111111,
             "#46039f"
            ],
            [
             0.2222222222222222,
             "#7201a8"
            ],
            [
             0.3333333333333333,
             "#9c179e"
            ],
            [
             0.4444444444444444,
             "#bd3786"
            ],
            [
             0.5555555555555556,
             "#d8576b"
            ],
            [
             0.6666666666666666,
             "#ed7953"
            ],
            [
             0.7777777777777778,
             "#fb9f3a"
            ],
            [
             0.8888888888888888,
             "#fdca26"
            ],
            [
             1,
             "#f0f921"
            ]
           ]
          },
          "colorway": [
           "#636efa",
           "#EF553B",
           "#00cc96",
           "#ab63fa",
           "#FFA15A",
           "#19d3f3",
           "#FF6692",
           "#B6E880",
           "#FF97FF",
           "#FECB52"
          ],
          "font": {
           "color": "#2a3f5f"
          },
          "geo": {
           "bgcolor": "white",
           "lakecolor": "white",
           "landcolor": "#E5ECF6",
           "showlakes": true,
           "showland": true,
           "subunitcolor": "white"
          },
          "hoverlabel": {
           "align": "left"
          },
          "hovermode": "closest",
          "mapbox": {
           "style": "light"
          },
          "paper_bgcolor": "white",
          "plot_bgcolor": "#E5ECF6",
          "polar": {
           "angularaxis": {
            "gridcolor": "white",
            "linecolor": "white",
            "ticks": ""
           },
           "bgcolor": "#E5ECF6",
           "radialaxis": {
            "gridcolor": "white",
            "linecolor": "white",
            "ticks": ""
           }
          },
          "scene": {
           "xaxis": {
            "backgroundcolor": "#E5ECF6",
            "gridcolor": "white",
            "gridwidth": 2,
            "linecolor": "white",
            "showbackground": true,
            "ticks": "",
            "zerolinecolor": "white"
           },
           "yaxis": {
            "backgroundcolor": "#E5ECF6",
            "gridcolor": "white",
            "gridwidth": 2,
            "linecolor": "white",
            "showbackground": true,
            "ticks": "",
            "zerolinecolor": "white"
           },
           "zaxis": {
            "backgroundcolor": "#E5ECF6",
            "gridcolor": "white",
            "gridwidth": 2,
            "linecolor": "white",
            "showbackground": true,
            "ticks": "",
            "zerolinecolor": "white"
           }
          },
          "shapedefaults": {
           "line": {
            "color": "#2a3f5f"
           }
          },
          "ternary": {
           "aaxis": {
            "gridcolor": "white",
            "linecolor": "white",
            "ticks": ""
           },
           "baxis": {
            "gridcolor": "white",
            "linecolor": "white",
            "ticks": ""
           },
           "bgcolor": "#E5ECF6",
           "caxis": {
            "gridcolor": "white",
            "linecolor": "white",
            "ticks": ""
           }
          },
          "title": {
           "x": 0.05
          },
          "xaxis": {
           "automargin": true,
           "gridcolor": "white",
           "linecolor": "white",
           "ticks": "",
           "title": {
            "standoff": 15
           },
           "zerolinecolor": "white",
           "zerolinewidth": 2
          },
          "yaxis": {
           "automargin": true,
           "gridcolor": "white",
           "linecolor": "white",
           "ticks": "",
           "title": {
            "standoff": 15
           },
           "zerolinecolor": "white",
           "zerolinewidth": 2
          }
         }
        },
        "title": {
         "text": "Student population of HBCUs by Setting"
        },
        "xaxis": {
         "anchor": "y",
         "domain": [
          0,
          1
         ],
         "title": {
          "text": "Student population"
         }
        },
        "yaxis": {
         "anchor": "x",
         "domain": [
          0,
          1
         ],
         "title": {
          "text": "index"
         }
        }
       }
      }
     },
     "metadata": {},
     "output_type": "display_data"
    }
   ],
   "source": [
    "#create scatterplot\n",
    "fig = px.scatter(df,x=df['Student population'],\n",
    "                 size=df['Student population'],\n",
    "                 hover_name=df['Name'],\n",
    "                 title='Student population of HBCUs by Setting', \n",
    "                 color_discrete_sequence=px.colors.qualitative.Dark24,\n",
    "                 color=df[\"Setting\"])\n",
    "fig.show()"
   ]
  },
  {
   "cell_type": "code",
   "execution_count": 20,
   "metadata": {},
   "outputs": [],
   "source": [
    "#cleaning up Address column to prep for geocoding\n",
    "#make copy of Address column\n",
    "df['Address1'] = df['Address']\n",
    "#make list out of new column\n",
    "Address1 = df['Address1'].to_list()\n",
    "#replace extra 4 digits of zip codes with blanks in addresses with regular expressions\n",
    "pattern1 = '-[0-9]+'\n",
    "repl1 = ''\n",
    "Address2 = []\n",
    "for index, x in enumerate(Address1):\n",
    "    result = re.sub(pattern1, repl1, x)\n",
    "    Address2.append(result)\n",
    "#make copy of Name column\n",
    "Name1 = df['Name'].to_list()"
   ]
  },
  {
   "cell_type": "code",
   "execution_count": 21,
   "metadata": {},
   "outputs": [
    {
     "name": "stdout",
     "output_type": "stream",
     "text": [
      "1600 Dr. Martin Luther King Jr. Drive, Little Rock, Arkansas 72202\n",
      "1621 Dr. Martin Luther King Drive, Little Rock, Arkansas 72202\n",
      "Jarvis Christian University\n",
      "Jarvis Christian College\n",
      "North Carolina A & T State University\n",
      "North Carolina A&T State University\n"
     ]
    }
   ],
   "source": [
    "#more cleaning\n",
    "#clean address for Arkansas Baptist College\n",
    "print(Address2[6])\n",
    "Address2[6] = '1621 Dr. Martin Luther King Drive, Little Rock, Arkansas 72202'\n",
    "print(Address2[6])\n",
    "\n",
    "#clean up name for Jarvis Christian\n",
    "print(Name1[40])\n",
    "Name1[40] = 'Jarvis Christian College'\n",
    "print(Name1[40])\n",
    "\n",
    "#clean up name for N orth Carolina A&T State University\n",
    "print(Name1[58])\n",
    "Name1[58] = 'North Carolina A&T State University'\n",
    "print(Name1[58])\n"
   ]
  },
  {
   "cell_type": "code",
   "execution_count": 22,
   "metadata": {},
   "outputs": [],
   "source": [
    "#geocode addresses to get coordinates\n",
    "geo=Nominatim(user_agent=\"hbcu\")\n",
    "Latitude=[]\n",
    "Longitude=[]\n",
    "for index,x in enumerate(Name1):\n",
    "    l1 = geo.geocode(x, timeout=None)\n",
    "    if l1 is None:\n",
    "        l1=geo.geocode(Address2[index], timeout=None)\n",
    "    Latitude.append(l1.latitude)\n",
    "    Longitude.append(l1.longitude)"
   ]
  },
  {
   "cell_type": "code",
   "execution_count": 23,
   "metadata": {},
   "outputs": [
    {
     "name": "stdout",
     "output_type": "stream",
     "text": [
      "[]\n",
      "[]\n"
     ]
    }
   ],
   "source": [
    "#look for None in Latitude and Longitude lists\n",
    "res_lat = [i for i, val in enumerate(Latitude) if val == None]\n",
    "print(res_lat)\n",
    "res_lon = [i for i, val in enumerate(Longitude) if val == None]\n",
    "print(res_lon)"
   ]
  },
  {
   "cell_type": "code",
   "execution_count": 24,
   "metadata": {},
   "outputs": [
    {
     "name": "stdout",
     "output_type": "stream",
     "text": [
      "<class 'pandas.core.frame.DataFrame'>\n",
      "Index: 102 entries, 0 to 101\n",
      "Data columns (total 23 columns):\n",
      " #   Column                  Non-Null Count  Dtype  \n",
      "---  ------                  --------------  -----  \n",
      " 0   Name                    102 non-null    object \n",
      " 1   Address                 102 non-null    object \n",
      " 2   Website                 102 non-null    object \n",
      " 3   Type                    102 non-null    object \n",
      " 4   Awards offered          102 non-null    object \n",
      " 5   Campus_setting          101 non-null    object \n",
      " 6   Campus housing          102 non-null    object \n",
      " 7   Student population      102 non-null    float64\n",
      " 8   Undergraduate students  97 non-null     float64\n",
      " 9   Graduation Rate         96 non-null     object \n",
      " 10  Transfer-Out Rate       63 non-null     object \n",
      " 11  Cohort Year *           102 non-null    object \n",
      " 12  Net Price **            96 non-null     object \n",
      " 13  Largest Program         102 non-null    object \n",
      " 14  IPEDS ID                102 non-null    float64\n",
      " 15  OPE ID                  101 non-null    float64\n",
      " 16  Highest Degree          102 non-null    object \n",
      " 17  PublicPrivate           102 non-null    object \n",
      " 18  Percent Undergraduates  97 non-null     float64\n",
      " 19  Setting                 101 non-null    object \n",
      " 20  Address1                102 non-null    object \n",
      " 21  Longitude               102 non-null    float64\n",
      " 22  Latitude                102 non-null    float64\n",
      "dtypes: float64(7), object(16)\n",
      "memory usage: 19.1+ KB\n"
     ]
    }
   ],
   "source": [
    "#add Longitude and latitude back to the data frame\n",
    "df['Longitude'] = Longitude\n",
    "df['Latitude'] = Latitude\n",
    "\n",
    "df.info()"
   ]
  },
  {
   "cell_type": "code",
   "execution_count": 25,
   "metadata": {},
   "outputs": [
    {
     "data": {
      "application/vnd.plotly.v1+json": {
       "config": {
        "plotlyServerURL": "https://plot.ly"
       },
       "data": [
        {
         "hovertemplate": "Student population=%{marker.color}<br>Name=%{text}<br>Latitude=%{lat}<br>Longitude=%{lon}<extra></extra>",
         "lat": [
          34.784298699999994,
          32.36334985,
          31.5678798,
          31.874758399999997,
          34.010462950000004,
          36.2022777,
          34.734972299999995,
          34.01396275,
          36.068126,
          29.21185355,
          30.694711599999998,
          37.26666705,
          39.018388099999996,
          39.716513500000005,
          39.93310325,
          33.49941805,
          33.75012475,
          34.9134907,
          34.25306635,
          39.3110927,
          39.186799300000004,
          33.3132106,
          29.9962374,
          30.3450461,
          36.2800894,
          35.073715,
          36.16707125,
          30.4227425,
          25.9175201,
          32.5336633,
          33.99029055,
          32.51950275,
          32.350906775079494,
          37.0210096,
          38.6333552,
          38.921897200000004,
          30.264672400000002,
          33.753452949999996,
          34.77016363636364,
          32.296409249999996,
          32.591613800000005,
          35.24378195,
          38.2020167,
          35.6282633,
          35.94741365,
          33.374820299999996,
          35.11776505,
          39.8065518,
          39.8065518,
          35.671286949999995,
          36.16602295,
          33.48109865,
          33.51126055,
          33.74737405,
          33.7431332,
          39.3446663,
          33.938331399999996,
          36.8482215,
          36.073605,
          35.973209049999994,
          34.7546676,
          33.469431549999996,
          32.678816600000005,
          34.736825,
          30.09609545,
          34.776232500000006,
          10.63791375,
          32.02442575,
          32.4206437,
          35.770768849999996,
          33.120647149999996,
          34.25942875,
          38.23969615,
          33.49878505,
          30.52581565,
          30.02554225,
          32.54462615,
          30.4494155,
          32.7351398,
          33.74519965,
          -23.689898149999998,
          33.19784735,
          33.4325135,
          36.167944250000005,
          32.3746078,
          29.7209058,
          32.4039168,
          32.4301095,
          34.25109005,
          38.21403735,
          38.9449357,
          18.3402725,
          17.71687885,
          37.2383399,
          37.561759800000004,
          37.395064399999995,
          33.3058578,
          38.3793907,
          39.70859065,
          33.7495855,
          36.089515399999996,
          29.9638897
         ],
         "legendgroup": "",
         "lon": [
          -86.57013044310635,
          -86.29355107996977,
          -84.14057937069398,
          -91.13866652565318,
          -81.0199355569104,
          -86.7902765,
          -92.2898356068249,
          -81.02097288919151,
          -79.7796362,
          -81.03198250103571,
          -88.05752834842787,
          -81.23723498507192,
          -76.76095116835239,
          -83.87568592912604,
          -75.52916874086121,
          -80.85315432801221,
          -84.41158897451389,
          -81.0431600314637,
          -90.56857914676274,
          -76.65852887083163,
          -75.54235828105121,
          -81.1267676,
          -90.0653677710487,
          -81.6848061,
          -76.21336428709832,
          -78.89263535946284,
          -86.80390651935417,
          -84.28759867670152,
          -80.27068544105553,
          -83.89504621122379,
          -85.99386811039503,
          -92.72116383442508,
          -86.3451812064092,
          -76.33862554102596,
          -90.22439227946788,
          -77.01959314049667,
          -97.72234831668288,
          -84.40943613914351,
          -86.57256377272728,
          -90.20743755025683,
          -95.176629478844,
          -80.85544719656531,
          -84.8563388,
          -88.80669166676904,
          -97.26474191034924,
          -86.99296732984362,
          -90.03387290300063,
          -75.92870551247694,
          -75.92870551247694,
          -80.48567951259292,
          -86.80756194284733,
          -86.90911015439585,
          -90.3426333448805,
          -84.41609506200462,
          -84.4120967,
          -76.58360941503034,
          -80.34700051878013,
          -76.26296420861456,
          -79.7744321,
          -78.89755053748397,
          -86.6549302859403,
          -81.99560322689779,
          -96.75367781374204,
          -92.283114,
          -95.9870006795148,
          -89.44731846573404,
          -61.39802938380937,
          -81.06248082844556,
          -87.03382572731148,
          -78.63697923267378,
          -87.56134941852409,
          -85.19527510695326,
          -85.76531100695975,
          -80.84684338421943,
          -91.19494604535262,
          -90.04512588618616,
          -93.83433333425184,
          -91.1869659,
          -96.28581592881284,
          -84.41128662499472,
          133.88294554471292,
          -87.58572785618387,
          -86.11488779398088,
          -86.82710485760109,
          -95.31245324946968,
          -95.35962668476279,
          -90.1595745,
          -85.70673351537872,
          -92.02891023463349,
          -75.68287648503558,
          -77.06631766394182,
          -64.9710946,
          -64.79803418769836,
          -77.41950354459487,
          -77.45105977399695,
          -79.15281569225121,
          -81.1285669,
          -81.76806034458825,
          -83.87895696227432,
          -84.41570429924401,
          -80.22397373065107,
          -90.10922358519306
         ],
         "marker": {
          "color": [
           6007,
           3828,
           6334,
           2933,
           657,
           53,
           497,
           1840,
           168,
           2727,
           2968,
           1306,
           6275,
           5434,
           697,
           1830,
           4000,
           197,
           1783,
           2006,
           5826,
           725,
           1224,
           1181,
           2149,
           6787,
           1055,
           9215,
           1137,
           2605,
           4352,
           5058,
           1984,
           3286,
           1084,
           12886,
           1025,
           193,
           976,
           6906,
           729,
           1093,
           1726,
           1010,
           1903,
           2919,
           609,
           1833,
           1824,
           839,
           962,
           1258,
           1879,
           2567,
           891,
           9101,
           384,
           5783,
           13487,
           7553,
           1470,
           310,
           938,
           769,
           9056,
           755,
           1108,
           2945,
           50,
           1067,
           4166,
           321,
           237,
           2649,
           8226,
           1950,
           3154,
           843,
           88,
           3102,
           12653,
           744,
           903,
           9218,
           642,
           8632,
           677,
           2570,
           2387,
           2518,
           3577,
           1636,
           2138,
           4648,
           1860,
           837,
           507,
           3785,
           656,
           698,
           5004,
           3419
          ],
          "coloraxis": "coloraxis",
          "size": [
           6007,
           3828,
           6334,
           2933,
           657,
           53,
           497,
           1840,
           168,
           2727,
           2968,
           1306,
           6275,
           5434,
           697,
           1830,
           4000,
           197,
           1783,
           2006,
           5826,
           725,
           1224,
           1181,
           2149,
           6787,
           1055,
           9215,
           1137,
           2605,
           4352,
           5058,
           1984,
           3286,
           1084,
           12886,
           1025,
           193,
           976,
           6906,
           729,
           1093,
           1726,
           1010,
           1903,
           2919,
           609,
           1833,
           1824,
           839,
           962,
           1258,
           1879,
           2567,
           891,
           9101,
           384,
           5783,
           13487,
           7553,
           1470,
           310,
           938,
           769,
           9056,
           755,
           1108,
           2945,
           50,
           1067,
           4166,
           321,
           237,
           2649,
           8226,
           1950,
           3154,
           843,
           88,
           3102,
           12653,
           744,
           903,
           9218,
           642,
           8632,
           677,
           2570,
           2387,
           2518,
           3577,
           1636,
           2138,
           4648,
           1860,
           837,
           507,
           3785,
           656,
           698,
           5004,
           3419
          ],
          "sizemode": "area",
          "sizeref": 33.7175
         },
         "mode": "markers+text",
         "name": "",
         "showlegend": false,
         "subplot": "mapbox",
         "text": [
          "Alabama A & M University",
          "Alabama State University",
          "Albany State University",
          "Alcorn State University",
          "Allen University",
          "American Baptist College",
          "Arkansas Baptist College",
          "Benedict College",
          "Bennett College",
          "Bethune-Cookman University",
          "Bishop State Community College",
          "Bluefield State University",
          "Bowie State University",
          "Central State University",
          "Cheyney University of Pennsylvania",
          "Claflin University",
          "Clark Atlanta University",
          "Clinton College",
          "Coahoma Community College",
          "Coppin State University",
          "Delaware State University",
          "Denmark Technical College",
          "Dillard University",
          "Edward Waters University",
          "Elizabeth City State University",
          "Fayetteville State University",
          "Fisk University",
          "Florida Agricultural and Mechanical University",
          "Florida Memorial University",
          "Fort Valley State University",
          "Gadsden State Community College",
          "Grambling State University",
          "H Councill Trenholm State Community College",
          "Hampton University",
          "Harris-Stowe State University",
          "Howard University",
          "Huston-Tillotson University",
          "Interdenominational Theological Center",
          "J. F. Drake State Community and Technical College",
          "Jackson State University",
          "Jarvis Christian University",
          "Johnson C Smith University",
          "Kentucky State University",
          "Lane College",
          "Langston University",
          "Lawson State Community College",
          "Le Moyne-Owen College",
          "Lincoln University",
          "Lincoln University",
          "Livingstone College",
          "Meharry Medical College",
          "Miles College",
          "Mississippi Valley State University",
          "Morehouse College",
          "Morehouse School of Medicine",
          "Morgan State University",
          "Morris College",
          "Norfolk State University",
          "North Carolina A & T State University",
          "North Carolina Central University",
          "Oakwood University",
          "Paine College",
          "Paul Quinn College",
          "Philander Smith University",
          "Prairie View A & M University",
          "Rust College",
          "Saint Augustine's University",
          "Savannah State University",
          "Selma University",
          "Shaw University",
          "Shelton State Community College",
          "Shorter College",
          "Simmons College of Kentucky",
          "South Carolina State University",
          "Southern University and A & M College",
          "Southern University at New Orleans",
          "Southern University at Shreveport",
          "Southern University Law Center",
          "Southwestern Christian College",
          "Spelman College",
          "St Philip's College",
          "Stillman College",
          "Talladega College",
          "Tennessee State University",
          "Texas College",
          "Texas Southern University",
          "Tougaloo College",
          "Tuskegee University",
          "University of Arkansas at Pine Bluff",
          "University of Maryland Eastern Shore",
          "University of the District of Columbia",
          "University of the Virgin Islands",
          "University of the Virgin Islands-Albert A. Sheen",
          "Virginia State University",
          "Virginia Union University",
          "Virginia University of Lynchburg",
          "Voorhees University",
          "West Virginia State University",
          "Wilberforce University",
          "Wiley University",
          "Winston-Salem State University",
          "Xavier University of Louisiana"
         ],
         "type": "scattermapbox"
        }
       ],
       "layout": {
        "coloraxis": {
         "colorbar": {
          "title": {
           "text": "Student population"
          }
         },
         "colorscale": [
          [
           0,
           "rgb(0,0,0)"
          ],
          [
           0.3333333333333333,
           "rgb(230,0,0)"
          ],
          [
           0.6666666666666666,
           "rgb(255,210,0)"
          ],
          [
           1,
           "rgb(255,255,255)"
          ]
         ]
        },
        "height": 800,
        "legend": {
         "itemsizing": "constant",
         "tracegroupgap": 0
        },
        "mapbox": {
         "center": {
          "lat": 33.358534639818075,
          "lon": -82.13087843469494
         },
         "domain": {
          "x": [
           0,
           1
          ],
          "y": [
           0,
           1
          ]
         },
         "style": "open-street-map",
         "zoom": 4.5
        },
        "template": {
         "data": {
          "bar": [
           {
            "error_x": {
             "color": "#2a3f5f"
            },
            "error_y": {
             "color": "#2a3f5f"
            },
            "marker": {
             "line": {
              "color": "#E5ECF6",
              "width": 0.5
             },
             "pattern": {
              "fillmode": "overlay",
              "size": 10,
              "solidity": 0.2
             }
            },
            "type": "bar"
           }
          ],
          "barpolar": [
           {
            "marker": {
             "line": {
              "color": "#E5ECF6",
              "width": 0.5
             },
             "pattern": {
              "fillmode": "overlay",
              "size": 10,
              "solidity": 0.2
             }
            },
            "type": "barpolar"
           }
          ],
          "carpet": [
           {
            "aaxis": {
             "endlinecolor": "#2a3f5f",
             "gridcolor": "white",
             "linecolor": "white",
             "minorgridcolor": "white",
             "startlinecolor": "#2a3f5f"
            },
            "baxis": {
             "endlinecolor": "#2a3f5f",
             "gridcolor": "white",
             "linecolor": "white",
             "minorgridcolor": "white",
             "startlinecolor": "#2a3f5f"
            },
            "type": "carpet"
           }
          ],
          "choropleth": [
           {
            "colorbar": {
             "outlinewidth": 0,
             "ticks": ""
            },
            "type": "choropleth"
           }
          ],
          "contour": [
           {
            "colorbar": {
             "outlinewidth": 0,
             "ticks": ""
            },
            "colorscale": [
             [
              0,
              "#0d0887"
             ],
             [
              0.1111111111111111,
              "#46039f"
             ],
             [
              0.2222222222222222,
              "#7201a8"
             ],
             [
              0.3333333333333333,
              "#9c179e"
             ],
             [
              0.4444444444444444,
              "#bd3786"
             ],
             [
              0.5555555555555556,
              "#d8576b"
             ],
             [
              0.6666666666666666,
              "#ed7953"
             ],
             [
              0.7777777777777778,
              "#fb9f3a"
             ],
             [
              0.8888888888888888,
              "#fdca26"
             ],
             [
              1,
              "#f0f921"
             ]
            ],
            "type": "contour"
           }
          ],
          "contourcarpet": [
           {
            "colorbar": {
             "outlinewidth": 0,
             "ticks": ""
            },
            "type": "contourcarpet"
           }
          ],
          "heatmap": [
           {
            "colorbar": {
             "outlinewidth": 0,
             "ticks": ""
            },
            "colorscale": [
             [
              0,
              "#0d0887"
             ],
             [
              0.1111111111111111,
              "#46039f"
             ],
             [
              0.2222222222222222,
              "#7201a8"
             ],
             [
              0.3333333333333333,
              "#9c179e"
             ],
             [
              0.4444444444444444,
              "#bd3786"
             ],
             [
              0.5555555555555556,
              "#d8576b"
             ],
             [
              0.6666666666666666,
              "#ed7953"
             ],
             [
              0.7777777777777778,
              "#fb9f3a"
             ],
             [
              0.8888888888888888,
              "#fdca26"
             ],
             [
              1,
              "#f0f921"
             ]
            ],
            "type": "heatmap"
           }
          ],
          "heatmapgl": [
           {
            "colorbar": {
             "outlinewidth": 0,
             "ticks": ""
            },
            "colorscale": [
             [
              0,
              "#0d0887"
             ],
             [
              0.1111111111111111,
              "#46039f"
             ],
             [
              0.2222222222222222,
              "#7201a8"
             ],
             [
              0.3333333333333333,
              "#9c179e"
             ],
             [
              0.4444444444444444,
              "#bd3786"
             ],
             [
              0.5555555555555556,
              "#d8576b"
             ],
             [
              0.6666666666666666,
              "#ed7953"
             ],
             [
              0.7777777777777778,
              "#fb9f3a"
             ],
             [
              0.8888888888888888,
              "#fdca26"
             ],
             [
              1,
              "#f0f921"
             ]
            ],
            "type": "heatmapgl"
           }
          ],
          "histogram": [
           {
            "marker": {
             "pattern": {
              "fillmode": "overlay",
              "size": 10,
              "solidity": 0.2
             }
            },
            "type": "histogram"
           }
          ],
          "histogram2d": [
           {
            "colorbar": {
             "outlinewidth": 0,
             "ticks": ""
            },
            "colorscale": [
             [
              0,
              "#0d0887"
             ],
             [
              0.1111111111111111,
              "#46039f"
             ],
             [
              0.2222222222222222,
              "#7201a8"
             ],
             [
              0.3333333333333333,
              "#9c179e"
             ],
             [
              0.4444444444444444,
              "#bd3786"
             ],
             [
              0.5555555555555556,
              "#d8576b"
             ],
             [
              0.6666666666666666,
              "#ed7953"
             ],
             [
              0.7777777777777778,
              "#fb9f3a"
             ],
             [
              0.8888888888888888,
              "#fdca26"
             ],
             [
              1,
              "#f0f921"
             ]
            ],
            "type": "histogram2d"
           }
          ],
          "histogram2dcontour": [
           {
            "colorbar": {
             "outlinewidth": 0,
             "ticks": ""
            },
            "colorscale": [
             [
              0,
              "#0d0887"
             ],
             [
              0.1111111111111111,
              "#46039f"
             ],
             [
              0.2222222222222222,
              "#7201a8"
             ],
             [
              0.3333333333333333,
              "#9c179e"
             ],
             [
              0.4444444444444444,
              "#bd3786"
             ],
             [
              0.5555555555555556,
              "#d8576b"
             ],
             [
              0.6666666666666666,
              "#ed7953"
             ],
             [
              0.7777777777777778,
              "#fb9f3a"
             ],
             [
              0.8888888888888888,
              "#fdca26"
             ],
             [
              1,
              "#f0f921"
             ]
            ],
            "type": "histogram2dcontour"
           }
          ],
          "mesh3d": [
           {
            "colorbar": {
             "outlinewidth": 0,
             "ticks": ""
            },
            "type": "mesh3d"
           }
          ],
          "parcoords": [
           {
            "line": {
             "colorbar": {
              "outlinewidth": 0,
              "ticks": ""
             }
            },
            "type": "parcoords"
           }
          ],
          "pie": [
           {
            "automargin": true,
            "type": "pie"
           }
          ],
          "scatter": [
           {
            "fillpattern": {
             "fillmode": "overlay",
             "size": 10,
             "solidity": 0.2
            },
            "type": "scatter"
           }
          ],
          "scatter3d": [
           {
            "line": {
             "colorbar": {
              "outlinewidth": 0,
              "ticks": ""
             }
            },
            "marker": {
             "colorbar": {
              "outlinewidth": 0,
              "ticks": ""
             }
            },
            "type": "scatter3d"
           }
          ],
          "scattercarpet": [
           {
            "marker": {
             "colorbar": {
              "outlinewidth": 0,
              "ticks": ""
             }
            },
            "type": "scattercarpet"
           }
          ],
          "scattergeo": [
           {
            "marker": {
             "colorbar": {
              "outlinewidth": 0,
              "ticks": ""
             }
            },
            "type": "scattergeo"
           }
          ],
          "scattergl": [
           {
            "marker": {
             "colorbar": {
              "outlinewidth": 0,
              "ticks": ""
             }
            },
            "type": "scattergl"
           }
          ],
          "scattermapbox": [
           {
            "marker": {
             "colorbar": {
              "outlinewidth": 0,
              "ticks": ""
             }
            },
            "type": "scattermapbox"
           }
          ],
          "scatterpolar": [
           {
            "marker": {
             "colorbar": {
              "outlinewidth": 0,
              "ticks": ""
             }
            },
            "type": "scatterpolar"
           }
          ],
          "scatterpolargl": [
           {
            "marker": {
             "colorbar": {
              "outlinewidth": 0,
              "ticks": ""
             }
            },
            "type": "scatterpolargl"
           }
          ],
          "scatterternary": [
           {
            "marker": {
             "colorbar": {
              "outlinewidth": 0,
              "ticks": ""
             }
            },
            "type": "scatterternary"
           }
          ],
          "surface": [
           {
            "colorbar": {
             "outlinewidth": 0,
             "ticks": ""
            },
            "colorscale": [
             [
              0,
              "#0d0887"
             ],
             [
              0.1111111111111111,
              "#46039f"
             ],
             [
              0.2222222222222222,
              "#7201a8"
             ],
             [
              0.3333333333333333,
              "#9c179e"
             ],
             [
              0.4444444444444444,
              "#bd3786"
             ],
             [
              0.5555555555555556,
              "#d8576b"
             ],
             [
              0.6666666666666666,
              "#ed7953"
             ],
             [
              0.7777777777777778,
              "#fb9f3a"
             ],
             [
              0.8888888888888888,
              "#fdca26"
             ],
             [
              1,
              "#f0f921"
             ]
            ],
            "type": "surface"
           }
          ],
          "table": [
           {
            "cells": {
             "fill": {
              "color": "#EBF0F8"
             },
             "line": {
              "color": "white"
             }
            },
            "header": {
             "fill": {
              "color": "#C8D4E3"
             },
             "line": {
              "color": "white"
             }
            },
            "type": "table"
           }
          ]
         },
         "layout": {
          "annotationdefaults": {
           "arrowcolor": "#2a3f5f",
           "arrowhead": 0,
           "arrowwidth": 1
          },
          "autotypenumbers": "strict",
          "coloraxis": {
           "colorbar": {
            "outlinewidth": 0,
            "ticks": ""
           }
          },
          "colorscale": {
           "diverging": [
            [
             0,
             "#8e0152"
            ],
            [
             0.1,
             "#c51b7d"
            ],
            [
             0.2,
             "#de77ae"
            ],
            [
             0.3,
             "#f1b6da"
            ],
            [
             0.4,
             "#fde0ef"
            ],
            [
             0.5,
             "#f7f7f7"
            ],
            [
             0.6,
             "#e6f5d0"
            ],
            [
             0.7,
             "#b8e186"
            ],
            [
             0.8,
             "#7fbc41"
            ],
            [
             0.9,
             "#4d9221"
            ],
            [
             1,
             "#276419"
            ]
           ],
           "sequential": [
            [
             0,
             "#0d0887"
            ],
            [
             0.1111111111111111,
             "#46039f"
            ],
            [
             0.2222222222222222,
             "#7201a8"
            ],
            [
             0.3333333333333333,
             "#9c179e"
            ],
            [
             0.4444444444444444,
             "#bd3786"
            ],
            [
             0.5555555555555556,
             "#d8576b"
            ],
            [
             0.6666666666666666,
             "#ed7953"
            ],
            [
             0.7777777777777778,
             "#fb9f3a"
            ],
            [
             0.8888888888888888,
             "#fdca26"
            ],
            [
             1,
             "#f0f921"
            ]
           ],
           "sequentialminus": [
            [
             0,
             "#0d0887"
            ],
            [
             0.1111111111111111,
             "#46039f"
            ],
            [
             0.2222222222222222,
             "#7201a8"
            ],
            [
             0.3333333333333333,
             "#9c179e"
            ],
            [
             0.4444444444444444,
             "#bd3786"
            ],
            [
             0.5555555555555556,
             "#d8576b"
            ],
            [
             0.6666666666666666,
             "#ed7953"
            ],
            [
             0.7777777777777778,
             "#fb9f3a"
            ],
            [
             0.8888888888888888,
             "#fdca26"
            ],
            [
             1,
             "#f0f921"
            ]
           ]
          },
          "colorway": [
           "#636efa",
           "#EF553B",
           "#00cc96",
           "#ab63fa",
           "#FFA15A",
           "#19d3f3",
           "#FF6692",
           "#B6E880",
           "#FF97FF",
           "#FECB52"
          ],
          "font": {
           "color": "#2a3f5f"
          },
          "geo": {
           "bgcolor": "white",
           "lakecolor": "white",
           "landcolor": "#E5ECF6",
           "showlakes": true,
           "showland": true,
           "subunitcolor": "white"
          },
          "hoverlabel": {
           "align": "left"
          },
          "hovermode": "closest",
          "mapbox": {
           "style": "light"
          },
          "paper_bgcolor": "white",
          "plot_bgcolor": "#E5ECF6",
          "polar": {
           "angularaxis": {
            "gridcolor": "white",
            "linecolor": "white",
            "ticks": ""
           },
           "bgcolor": "#E5ECF6",
           "radialaxis": {
            "gridcolor": "white",
            "linecolor": "white",
            "ticks": ""
           }
          },
          "scene": {
           "xaxis": {
            "backgroundcolor": "#E5ECF6",
            "gridcolor": "white",
            "gridwidth": 2,
            "linecolor": "white",
            "showbackground": true,
            "ticks": "",
            "zerolinecolor": "white"
           },
           "yaxis": {
            "backgroundcolor": "#E5ECF6",
            "gridcolor": "white",
            "gridwidth": 2,
            "linecolor": "white",
            "showbackground": true,
            "ticks": "",
            "zerolinecolor": "white"
           },
           "zaxis": {
            "backgroundcolor": "#E5ECF6",
            "gridcolor": "white",
            "gridwidth": 2,
            "linecolor": "white",
            "showbackground": true,
            "ticks": "",
            "zerolinecolor": "white"
           }
          },
          "shapedefaults": {
           "line": {
            "color": "#2a3f5f"
           }
          },
          "ternary": {
           "aaxis": {
            "gridcolor": "white",
            "linecolor": "white",
            "ticks": ""
           },
           "baxis": {
            "gridcolor": "white",
            "linecolor": "white",
            "ticks": ""
           },
           "bgcolor": "#E5ECF6",
           "caxis": {
            "gridcolor": "white",
            "linecolor": "white",
            "ticks": ""
           }
          },
          "title": {
           "x": 0.05
          },
          "xaxis": {
           "automargin": true,
           "gridcolor": "white",
           "linecolor": "white",
           "ticks": "",
           "title": {
            "standoff": 15
           },
           "zerolinecolor": "white",
           "zerolinewidth": 2
          },
          "yaxis": {
           "automargin": true,
           "gridcolor": "white",
           "linecolor": "white",
           "ticks": "",
           "title": {
            "standoff": 15
           },
           "zerolinecolor": "white",
           "zerolinewidth": 2
          }
         }
        },
        "title": {
         "text": "HBCU student population map"
        }
       }
      }
     },
     "metadata": {},
     "output_type": "display_data"
    }
   ],
   "source": [
    "#bubble map for student population\n",
    "fig = px.scatter_mapbox(df, lat=df['Latitude'], lon=df['Longitude'], text=df['Name'], size=df['Student population'],color=df['Student population'],\n",
    "                        zoom=4.5, mapbox_style='open-street-map', color_continuous_scale='hot', title='HBCU student population map', height=800)\n",
    "fig.show()"
   ]
  }
 ],
 "metadata": {
  "kernelspec": {
   "display_name": "Python 3",
   "language": "python",
   "name": "python3"
  },
  "language_info": {
   "codemirror_mode": {
    "name": "ipython",
    "version": 3
   },
   "file_extension": ".py",
   "mimetype": "text/x-python",
   "name": "python",
   "nbconvert_exporter": "python",
   "pygments_lexer": "ipython3",
   "version": "3.12.2"
  }
 },
 "nbformat": 4,
 "nbformat_minor": 2
}
